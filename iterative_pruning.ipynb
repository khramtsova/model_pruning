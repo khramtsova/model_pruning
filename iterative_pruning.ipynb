{
 "cells": [
  {
   "cell_type": "code",
   "execution_count": 2,
   "id": "01f5fcd5",
   "metadata": {},
   "outputs": [],
   "source": [
    "import torch"
   ]
  },
  {
   "cell_type": "code",
   "execution_count": 3,
   "id": "19f3d22b",
   "metadata": {},
   "outputs": [],
   "source": [
    "from models.imagenet_resnet import resnet18, resnet50\n",
    "from models.cifar_resnet import resnet20, resnet32, resnet56\n",
    "from torch import nn as nn \n",
    "\n",
    "from scipy.spatial.distance import cdist\n",
    "import numpy as np\n",
    "\n",
    "import gudhi as gd\n",
    "from gudhi import wasserstein\n",
    "\n",
    "import time"
   ]
  },
  {
   "cell_type": "code",
   "execution_count": 4,
   "id": "775eedc7",
   "metadata": {},
   "outputs": [],
   "source": [
    "import numpy as np\n",
    "from ripser import ripser\n",
    "from persim import plot_diagrams\n",
    "from gph.python import ripser_parallel\n",
    "from scipy.spatial.distance import pdist, squareform\n",
    "#import ripserplusplus as rpp_py\n",
    "import time"
   ]
  },
  {
   "cell_type": "code",
   "execution_count": 5,
   "id": "7cf4ec78",
   "metadata": {},
   "outputs": [],
   "source": [
    "pc = np.random.random((10, 3))\n",
    "#pc[0] = [0,0,0]\n",
    "#pc[1] = [0,0,0]\n",
    "#pc[2] = [0,0,0]\n",
    "#pc[3] = [0,0,0]\n",
    "dist = squareform(pdist(pc))\n",
    "t1 = time.time()\n",
    "res= ripser_parallel(dist, metric=\"precomputed\", maxdim=0, n_threads=-1, return_generators=True)"
   ]
  },
  {
   "cell_type": "code",
   "execution_count": 5,
   "id": "d2ee7f48",
   "metadata": {},
   "outputs": [],
   "source": [
    "bd_pairs = res['dgms']\n",
    "generators = res['gens']"
   ]
  },
  {
   "cell_type": "code",
   "execution_count": 6,
   "id": "290279f3",
   "metadata": {},
   "outputs": [
    {
     "data": {
      "text/plain": [
       "10"
      ]
     },
     "execution_count": 6,
     "metadata": {},
     "output_type": "execute_result"
    }
   ],
   "source": [
    "len(bd_pairs[0])"
   ]
  },
  {
   "cell_type": "code",
   "execution_count": 7,
   "id": "4d54254b",
   "metadata": {},
   "outputs": [
    {
     "data": {
      "text/plain": [
       "9"
      ]
     },
     "execution_count": 7,
     "metadata": {},
     "output_type": "execute_result"
    }
   ],
   "source": [
    "len(generators[0].T[0])"
   ]
  },
  {
   "cell_type": "code",
   "execution_count": 8,
   "id": "bf902255",
   "metadata": {},
   "outputs": [
    {
     "name": "stdout",
     "output_type": "stream",
     "text": [
      "0.1346709550322222 [6 6 5]\n",
      "0.15222066817413954 [9 9 0]\n",
      "0.19498074880312607 [5 6 4]\n",
      "0.23217186909711773 [3 3 2]\n",
      "0.2737336380482728 [7 7 2]\n",
      "0.28156185075722734 [8 8 7]\n",
      "0.3808696803226943 [2 7 6]\n",
      "0.500549921259722 [1 1 0]\n",
      "0.5265074216304618 [4 8 1]\n"
     ]
    }
   ],
   "source": [
    "for i in generators[0]:\n",
    "    print(dist[i[1],i[2]], i)"
   ]
  },
  {
   "cell_type": "code",
   "execution_count": 9,
   "id": "cd7345db",
   "metadata": {},
   "outputs": [
    {
     "data": {
      "text/plain": [
       "array([[0.        , 0.13467096],\n",
       "       [0.        , 0.15222067],\n",
       "       [0.        , 0.19498076],\n",
       "       [0.        , 0.23217186],\n",
       "       [0.        , 0.27373365],\n",
       "       [0.        , 0.28156185],\n",
       "       [0.        , 0.3808697 ],\n",
       "       [0.        , 0.5005499 ],\n",
       "       [0.        , 0.52650744],\n",
       "       [0.        ,        inf]], dtype=float32)"
      ]
     },
     "execution_count": 9,
     "metadata": {},
     "output_type": "execute_result"
    }
   ],
   "source": [
    "bd_pairs[0]"
   ]
  },
  {
   "cell_type": "code",
   "execution_count": 19,
   "id": "1ef27ffe",
   "metadata": {},
   "outputs": [
    {
     "name": "stdout",
     "output_type": "stream",
     "text": [
      "CifarResNet : Depth : 20 , Layers for each block : 3\n"
     ]
    },
    {
     "data": {
      "text/plain": [
       "<All keys matched successfully>"
      ]
     },
     "execution_count": 19,
     "metadata": {},
     "output_type": "execute_result"
    }
   ],
   "source": []
  },
  {
   "cell_type": "code",
   "execution_count": null,
   "id": "cc90ee18",
   "metadata": {},
   "outputs": [],
   "source": []
  },
  {
   "cell_type": "code",
   "execution_count": null,
   "id": "1acc45ce",
   "metadata": {},
   "outputs": [],
   "source": []
  },
  {
   "cell_type": "code",
   "execution_count": 20,
   "id": "75cd1928",
   "metadata": {},
   "outputs": [],
   "source": [
    "for index, item in enumerate(model.parameters()):\n",
    "    if index in mask_index:\n",
    "        layer_weight = item#.data"
   ]
  },
  {
   "cell_type": "code",
   "execution_count": 21,
   "id": "84f4c1b4",
   "metadata": {},
   "outputs": [],
   "source": [
    "weight_vec = layer_weight.view(layer_weight.size()[0], -1).data"
   ]
  },
  {
   "cell_type": "code",
   "execution_count": 22,
   "id": "375a97a3",
   "metadata": {},
   "outputs": [],
   "source": [
    "#weight_vec[0] = torch.zeros(576)\n",
    "#weight_vec[10] = torch.zeros(576)\n",
    "#weight_vec[25] = torch.zeros(576)\n",
    "#weight_vec[-1] = torch.zeros(576)"
   ]
  },
  {
   "cell_type": "code",
   "execution_count": 23,
   "id": "34ba9185",
   "metadata": {},
   "outputs": [],
   "source": [
    "weight_torch = layer_weight.data\n"
   ]
  },
  {
   "cell_type": "code",
   "execution_count": 24,
   "id": "bdd43c39",
   "metadata": {},
   "outputs": [],
   "source": [
    "similar_matrix = cdist(weight_vec, weight_vec, 'euclidean')"
   ]
  },
  {
   "cell_type": "code",
   "execution_count": 25,
   "id": "4b2bb902",
   "metadata": {},
   "outputs": [
    {
     "data": {
      "text/plain": [
       "array([[0.        , 0.48654228, 0.80298269, ..., 1.23383602, 0.94167295,\n",
       "        1.17562349],\n",
       "       [0.48654228, 0.        , 0.80509333, ..., 1.33953   , 0.96451191,\n",
       "        1.16334786],\n",
       "       [0.80298269, 0.80509333, 0.        , ..., 1.36422852, 1.32524842,\n",
       "        1.31138729],\n",
       "       ...,\n",
       "       [1.23383602, 1.33953   , 1.36422852, ..., 0.        , 1.51869882,\n",
       "        1.04567413],\n",
       "       [0.94167295, 0.96451191, 1.32524842, ..., 1.51869882, 0.        ,\n",
       "        1.34160619],\n",
       "       [1.17562349, 1.16334786, 1.31138729, ..., 1.04567413, 1.34160619,\n",
       "        0.        ]])"
      ]
     },
     "execution_count": 25,
     "metadata": {},
     "output_type": "execute_result"
    }
   ],
   "source": [
    "similar_matrix"
   ]
  },
  {
   "cell_type": "code",
   "execution_count": 26,
   "id": "40908927",
   "metadata": {},
   "outputs": [],
   "source": [
    "topo_res = ripser_parallel(similar_matrix, metric=\"precomputed\",\n",
    "                           maxdim=0, n_threads=-1, return_generators=True)\n",
    "bd_pairs = topo_res['dgms']\n",
    "generators = topo_res['gens']"
   ]
  },
  {
   "cell_type": "code",
   "execution_count": null,
   "id": "b3f86739",
   "metadata": {},
   "outputs": [],
   "source": []
  },
  {
   "cell_type": "code",
   "execution_count": 27,
   "id": "5b52fa44",
   "metadata": {},
   "outputs": [
    {
     "data": {
      "text/plain": [
       "(63, 64)"
      ]
     },
     "execution_count": 27,
     "metadata": {},
     "output_type": "execute_result"
    }
   ],
   "source": [
    "len(generators[0].T[0]), len(weight_vec)"
   ]
  },
  {
   "cell_type": "code",
   "execution_count": 28,
   "id": "afc923b0",
   "metadata": {},
   "outputs": [
    {
     "data": {
      "text/plain": [
       "array([ 0,  1,  2,  3,  4,  5,  6,  7,  9, 10, 11, 12, 13, 14, 15, 16, 17,\n",
       "       18, 19, 20, 21, 22, 23, 24, 25, 26, 27, 28, 29, 30, 31, 32, 33, 34,\n",
       "       35, 36, 37, 38, 39, 40, 41, 42, 43, 44, 45, 46, 47, 48, 49, 50, 51,\n",
       "       52, 53, 54, 55, 56, 57, 58, 59, 60, 61, 62, 63])"
      ]
     },
     "execution_count": 28,
     "metadata": {},
     "output_type": "execute_result"
    }
   ],
   "source": [
    "np.unique(generators[0].T[0])"
   ]
  },
  {
   "cell_type": "code",
   "execution_count": 19,
   "id": "1c95ac30",
   "metadata": {},
   "outputs": [
    {
     "data": {
      "text/plain": [
       "[array([[0.       , 1.83569  ],\n",
       "        [0.       , 1.8358666],\n",
       "        [0.       , 1.8362292],\n",
       "        [0.       , 1.837525 ],\n",
       "        [0.       , 1.8380343],\n",
       "        [0.       , 1.847869 ],\n",
       "        [0.       , 1.8494601],\n",
       "        [0.       , 1.8545004],\n",
       "        [0.       , 1.8547724],\n",
       "        [0.       , 1.8550887],\n",
       "        [0.       , 1.85703  ],\n",
       "        [0.       , 1.8576427],\n",
       "        [0.       , 1.8576906],\n",
       "        [0.       , 1.8588759],\n",
       "        [0.       , 1.8594713],\n",
       "        [0.       , 1.8611175],\n",
       "        [0.       , 1.8612108],\n",
       "        [0.       , 1.8633038],\n",
       "        [0.       , 1.8665721],\n",
       "        [0.       , 1.8689307],\n",
       "        [0.       , 1.8693581],\n",
       "        [0.       , 1.8709112],\n",
       "        [0.       , 1.8709805],\n",
       "        [0.       , 1.8711605],\n",
       "        [0.       , 1.8729482],\n",
       "        [0.       , 1.8730757],\n",
       "        [0.       , 1.8736153],\n",
       "        [0.       , 1.8745905],\n",
       "        [0.       , 1.8763587],\n",
       "        [0.       , 1.8774952],\n",
       "        [0.       , 1.8782704],\n",
       "        [0.       , 1.8784771],\n",
       "        [0.       , 1.8785667],\n",
       "        [0.       , 1.8790729],\n",
       "        [0.       , 1.8796402],\n",
       "        [0.       , 1.8800217],\n",
       "        [0.       , 1.8811029],\n",
       "        [0.       , 1.8812265],\n",
       "        [0.       , 1.8847702],\n",
       "        [0.       , 1.8862224],\n",
       "        [0.       , 1.88765  ],\n",
       "        [0.       , 1.8902385],\n",
       "        [0.       , 1.891007 ],\n",
       "        [0.       , 1.8921791],\n",
       "        [0.       , 1.8931811],\n",
       "        [0.       , 1.8932523],\n",
       "        [0.       , 1.8941587],\n",
       "        [0.       , 1.8948817],\n",
       "        [0.       , 1.8950022],\n",
       "        [0.       , 1.8963656],\n",
       "        [0.       , 1.8970349],\n",
       "        [0.       , 1.8981323],\n",
       "        [0.       , 1.8989415],\n",
       "        [0.       , 1.8994942],\n",
       "        [0.       , 1.9078128],\n",
       "        [0.       , 1.9100342],\n",
       "        [0.       , 1.9106444],\n",
       "        [0.       , 1.9112369],\n",
       "        [0.       , 1.9210894],\n",
       "        [0.       , 1.9242753],\n",
       "        [0.       , 1.931762 ],\n",
       "        [0.       , 1.9559276],\n",
       "        [0.       , 1.9616385],\n",
       "        [0.       ,       inf]], dtype=float32)]"
      ]
     },
     "execution_count": 19,
     "metadata": {},
     "output_type": "execute_result"
    }
   ],
   "source": [
    "bd_pairs"
   ]
  },
  {
   "cell_type": "code",
   "execution_count": 20,
   "id": "3f3a33f5",
   "metadata": {},
   "outputs": [
    {
     "data": {
      "text/plain": [
       "12"
      ]
     },
     "execution_count": 20,
     "metadata": {},
     "output_type": "execute_result"
    }
   ],
   "source": [
    "similar_pruned_num = int(64*0.2)\n",
    "similar_pruned_num"
   ]
  },
  {
   "cell_type": "code",
   "execution_count": 21,
   "id": "d3d46bf4",
   "metadata": {},
   "outputs": [
    {
     "data": {
      "text/plain": [
       "(63, 64, 64)"
      ]
     },
     "execution_count": 21,
     "metadata": {},
     "output_type": "execute_result"
    }
   ],
   "source": [
    "len(generators[0]),len(bd_pairs[0]), len(similar_matrix)"
   ]
  },
  {
   "cell_type": "code",
   "execution_count": null,
   "id": "45452569",
   "metadata": {},
   "outputs": [],
   "source": []
  },
  {
   "cell_type": "code",
   "execution_count": 22,
   "id": "2443e1bd",
   "metadata": {},
   "outputs": [
    {
     "data": {
      "text/plain": [
       "(array([[14, 14, 11],\n",
       "        [ 5,  5,  3],\n",
       "        [24, 24,  5],\n",
       "        [52, 52, 31],\n",
       "        [54, 54,  5],\n",
       "        [19, 19, 15],\n",
       "        [43, 43, 11],\n",
       "        [47, 47, 14],\n",
       "        [37, 37, 24],\n",
       "        [45, 45, 30],\n",
       "        [53, 53, 52],\n",
       "        [ 3, 24, 22],\n",
       "        [29, 29,  8],\n",
       "        [31, 53, 30],\n",
       "        [11, 47, 25],\n",
       "        [32, 32,  7],\n",
       "        [25, 11,  3],\n",
       "        [30, 45, 22],\n",
       "        [63, 63, 52],\n",
       "        [ 8, 29, 23],\n",
       "        [22, 63, 29],\n",
       "        [23,  5,  4],\n",
       "        [27, 27, 14],\n",
       "        [ 4, 37, 18],\n",
       "        [59, 59, 34],\n",
       "        [18, 63, 36],\n",
       "        [36, 47, 39],\n",
       "        [39, 45, 12],\n",
       "        [12, 52,  2],\n",
       "        [34, 59, 54],\n",
       "        [ 2, 24,  1],\n",
       "        [62, 62, 10],\n",
       "        [46, 46, 22],\n",
       "        [ 1, 46, 15],\n",
       "        [50, 50, 29],\n",
       "        [15, 24,  7],\n",
       "        [ 7, 54,  0],\n",
       "        [ 0, 46, 17],\n",
       "        [51, 51, 24],\n",
       "        [35, 35, 24],\n",
       "        [44, 44, 11],\n",
       "        [61, 61, 15],\n",
       "        [60, 60, 41],\n",
       "        [17, 24, 13],\n",
       "        [38, 38, 30],\n",
       "        [58, 58, 49],\n",
       "        [10, 62, 24],\n",
       "        [49, 58, 33],\n",
       "        [13, 52, 49],\n",
       "        [40, 40, 37],\n",
       "        [33, 44,  6],\n",
       "        [56, 56, 54],\n",
       "        [42, 42,  1],\n",
       "        [ 6, 36,  9],\n",
       "        [41, 60, 33],\n",
       "        [ 9, 60, 20],\n",
       "        [57, 57, 29],\n",
       "        [20, 63, 21],\n",
       "        [26, 26, 24],\n",
       "        [55, 55, 53],\n",
       "        [21, 29, 16],\n",
       "        [48, 48,  4],\n",
       "        [16, 58, 28]]),\n",
       " [],\n",
       " array([28]),\n",
       " [])"
      ]
     },
     "execution_count": 22,
     "metadata": {},
     "output_type": "execute_result"
    }
   ],
   "source": [
    "generators"
   ]
  },
  {
   "cell_type": "code",
   "execution_count": 23,
   "id": "d4afedb4",
   "metadata": {},
   "outputs": [
    {
     "data": {
      "text/plain": [
       "63"
      ]
     },
     "execution_count": 23,
     "metadata": {},
     "output_type": "execute_result"
    }
   ],
   "source": [
    "len(generators[0])"
   ]
  },
  {
   "cell_type": "code",
   "execution_count": 49,
   "id": "265ab300",
   "metadata": {},
   "outputs": [],
   "source": [
    "\n",
    "from scipy.spatial import distance"
   ]
  },
  {
   "cell_type": "code",
   "execution_count": 50,
   "id": "0981282b",
   "metadata": {},
   "outputs": [],
   "source": [
    "cluster = []\n",
    "num_clusters = 0\n",
    "to_drop = 10\n",
    "for el in generators[0]:\n",
    "    stopping_criteria = sum([len(i)-1 for i in cluster]) == to_drop\n",
    "    if stopping_criteria:\n",
    "        break\n",
    "    if len(cluster)>0:\n",
    "        cl_indx = [i for i in range(len(cluster)) if (el[1] in cluster[i] or el[2] in cluster[i])]\n",
    "        if len(cl_indx)>2:\n",
    "            print(\"Error\")\n",
    "            raise()\n",
    "        if len(cl_indx)==0:\n",
    "            cluster.append({el[1],el[2]})\n",
    "        \n",
    "        # add to an existing cluster\n",
    "        if len(cl_indx)==1:\n",
    "            cluster[cl_indx[0]].add(el[1])\n",
    "            cluster[cl_indx[0]].add(el[2])\n",
    "        \n",
    "        # merge clusters\n",
    "        if len(cl_indx)==2:\n",
    "            if cl_indx[1] > cl_indx[0]:\n",
    "                cluster_1, cluster_2 = cluster.pop(cl_indx[1]), cluster.pop(cl_indx[0])\n",
    "            else:\n",
    "                cluster_1, cluster_2 = cluster.pop(cl_indx[0]), cluster.pop(cl_indx[1])\n",
    "            cluster_1 |= cluster_2\n",
    "            cluster.append(cluster_1)\n",
    "        \n",
    "    else:\n",
    "        cluster.append({el[1],el[2]})"
   ]
  },
  {
   "cell_type": "code",
   "execution_count": 51,
   "id": "7d70a318",
   "metadata": {},
   "outputs": [
    {
     "data": {
      "text/plain": [
       "[{11, 14, 43, 47}, {3, 5, 24, 37, 54}, {31, 52}, {15, 19}, {30, 45}]"
      ]
     },
     "execution_count": 51,
     "metadata": {},
     "output_type": "execute_result"
    }
   ],
   "source": [
    "cluster"
   ]
  },
  {
   "cell_type": "code",
   "execution_count": 59,
   "id": "c02cce67",
   "metadata": {},
   "outputs": [],
   "source": [
    "filters_to_reinit = {}\n",
    "# Go through the clusters and remove the most centered filter from the list to drop\n",
    "for i in range(len(cluster)):\n",
    "    sub_indexes = list(cluster[i])\n",
    "    subvectors = weight_vec[sub_indexes]\n",
    "    local_similarity_matrix = distance.cdist(subvectors, subvectors, 'euclidean')\n",
    "    local_similar_sum = np.sum(np.abs(local_similarity_matrix), axis=0)\n",
    "    # The most central filter\n",
    "    similar_small_index = local_similar_sum.argsort()[0]\n",
    "    #print(cluster[i])\n",
    "    # Remove the most central filter from the list of filters to dropabs\n",
    "    \n",
    "    filters_to_reinit[sub_indexes[similar_small_index]] = torch.mean(subvectors.data, axis=0)\n",
    "    cluster[i].remove(sub_indexes[similar_small_index])\n",
    "    \n",
    "filters_to_drop = list({x for _list in cluster for x in _list})"
   ]
  },
  {
   "cell_type": "code",
   "execution_count": 44,
   "id": "012fde3e",
   "metadata": {},
   "outputs": [
    {
     "data": {
      "text/plain": [
       "(dict_keys([43, 24, 31, 15, 30]), [3, 37, 11, 47, 54])"
      ]
     },
     "execution_count": 44,
     "metadata": {},
     "output_type": "execute_result"
    }
   ],
   "source": [
    "filters_to_reinit.keys(), filters_to_drop"
   ]
  },
  {
   "cell_type": "code",
   "execution_count": 58,
   "id": "5d34f506",
   "metadata": {},
   "outputs": [
    {
     "data": {
      "text/plain": [
       "[{11, 43, 47}, {3, 24, 37, 54}, {31}, {15}, {30}]"
      ]
     },
     "execution_count": 58,
     "metadata": {},
     "output_type": "execute_result"
    }
   ],
   "source": [
    "cluster"
   ]
  },
  {
   "cell_type": "code",
   "execution_count": 28,
   "id": "f787fed2",
   "metadata": {},
   "outputs": [
    {
     "data": {
      "text/plain": [
       "torch.Size([64, 576])"
      ]
     },
     "execution_count": 28,
     "metadata": {},
     "output_type": "execute_result"
    }
   ],
   "source": [
    "weight_vec.shape"
   ]
  },
  {
   "cell_type": "code",
   "execution_count": 60,
   "id": "d04cd31d",
   "metadata": {},
   "outputs": [],
   "source": [
    "zero_mask = torch.count_nonzero(weight_vec, dim=1)==0\n",
    "how_many_are_already_0 = sum(zero_mask)"
   ]
  },
  {
   "cell_type": "code",
   "execution_count": 70,
   "id": "9537e26b",
   "metadata": {},
   "outputs": [
    {
     "data": {
      "text/plain": [
       "tensor([False,  True, False, False, False,  True,  True, False, False, False,\n",
       "        False, False, False, False, False, False, False, False, False, False,\n",
       "        False, False, False, False, False, False, False, False, False, False,\n",
       "        False, False, False, False, False, False, False, False, False, False,\n",
       "        False, False, False, False, False, False, False, False, False, False,\n",
       "        False, False, False, False, False, False, False, False, False, False,\n",
       "        False, False, False, False])"
      ]
     },
     "execution_count": 70,
     "metadata": {},
     "output_type": "execute_result"
    }
   ],
   "source": [
    "zero_mask[1]=True\n",
    "zero_mask[5]=True\n",
    "\n",
    "zero_mask[6]=True\n",
    "zero_mask"
   ]
  },
  {
   "cell_type": "code",
   "execution_count": 90,
   "id": "da76d1fe",
   "metadata": {},
   "outputs": [
    {
     "ename": "NameError",
     "evalue": "name 'weight_torch' is not defined",
     "output_type": "error",
     "traceback": [
      "\u001b[0;31m---------------------------------------------------------------------------\u001b[0m",
      "\u001b[0;31mNameError\u001b[0m                                 Traceback (most recent call last)",
      "Input \u001b[0;32mIn [90]\u001b[0m, in \u001b[0;36m<cell line: 1>\u001b[0;34m()\u001b[0m\n\u001b[0;32m----> 1\u001b[0m \u001b[43mweight_torch\u001b[49m[torch\u001b[38;5;241m.\u001b[39margwhere(\u001b[38;5;241m~\u001b[39mzero_mask)\u001b[38;5;241m.\u001b[39mflatten()]\u001b[38;5;241m.\u001b[39mshape\n",
      "\u001b[0;31mNameError\u001b[0m: name 'weight_torch' is not defined"
     ]
    }
   ],
   "source": [
    "weight_vec[torch.argwhere(~zero_mask).flatten()].shape"
   ]
  },
  {
   "cell_type": "code",
   "execution_count": 98,
   "id": "b4a0f65e",
   "metadata": {},
   "outputs": [],
   "source": [
    "original_indices = np.arange(len(weight_vec))\n",
    "reduced_indices = original_indices[torch.argwhere(~zero_mask).flatten()]"
   ]
  },
  {
   "cell_type": "code",
   "execution_count": 99,
   "id": "4472c897",
   "metadata": {},
   "outputs": [
    {
     "data": {
      "text/plain": [
       "(array([ 4, 40, 14, 50, 57]), [3, 37, 11, 47, 54])"
      ]
     },
     "execution_count": 99,
     "metadata": {},
     "output_type": "execute_result"
    }
   ],
   "source": [
    "reduced_indices[filters_to_drop],  filters_to_drop"
   ]
  },
  {
   "cell_type": "code",
   "execution_count": 100,
   "id": "d2198991",
   "metadata": {},
   "outputs": [
    {
     "data": {
      "text/plain": [
       "array([ 0,  2,  3,  4,  7,  8,  9, 10, 11, 12, 13, 14, 15, 16, 17, 18, 19,\n",
       "       20, 21, 22, 23, 24, 25, 26, 27, 28, 29, 30, 31, 32, 33, 34, 35, 36,\n",
       "       37, 38, 39, 40, 41, 42, 43, 44, 45, 46, 47, 48, 49, 50, 51, 52, 53,\n",
       "       54, 55, 56, 57, 58, 59, 60, 61, 62, 63])"
      ]
     },
     "execution_count": 100,
     "metadata": {},
     "output_type": "execute_result"
    }
   ],
   "source": [
    "reduced_indices"
   ]
  },
  {
   "cell_type": "code",
   "execution_count": 85,
   "id": "67187c70",
   "metadata": {},
   "outputs": [
    {
     "data": {
      "text/plain": [
       "tensor([ 0,  2,  3,  4,  7,  8,  9, 10, 11, 12, 13, 14, 15, 16, 17, 18, 19, 20,\n",
       "        21, 22, 23, 24, 25, 26, 27, 28, 29, 30, 31, 32, 33, 34, 35, 36, 37, 38,\n",
       "        39, 40, 41, 42, 43, 44, 45, 46, 47, 48, 49, 50, 51, 52, 53, 54, 55, 56,\n",
       "        57, 58, 59, 60, 61, 62, 63])"
      ]
     },
     "execution_count": 85,
     "metadata": {},
     "output_type": "execute_result"
    }
   ],
   "source": [
    "torch.argwhere(~zero_mask).flatten()"
   ]
  },
  {
   "cell_type": "code",
   "execution_count": 102,
   "id": "5658ff63",
   "metadata": {},
   "outputs": [
    {
     "data": {
      "text/plain": [
       "dict_keys([43, 24, 31, 15, 30])"
      ]
     },
     "execution_count": 102,
     "metadata": {},
     "output_type": "execute_result"
    }
   ],
   "source": [
    "filters_to_reinit.keys()\n"
   ]
  },
  {
   "cell_type": "code",
   "execution_count": 107,
   "id": "916e90a6",
   "metadata": {},
   "outputs": [],
   "source": [
    "kernel_length = weight_torch.size()[1] * weight_torch.size()[2] * weight_torch.size()[3]\n",
    "for x in range(0, len(filters_to_drop)):\n",
    "    codebook[\n",
    "    filters_to_drop[x] * kernel_length: (filters_to_drop[x] + 1) * kernel_length] = 0"
   ]
  },
  {
   "cell_type": "code",
   "execution_count": 108,
   "id": "1277c5d8",
   "metadata": {},
   "outputs": [
    {
     "data": {
      "text/plain": [
       "array([1., 0., 1., 1., 1., 0., 0., 1., 1., 1.])"
      ]
     },
     "execution_count": 108,
     "metadata": {},
     "output_type": "execute_result"
    }
   ],
   "source": [
    "codebook"
   ]
  },
  {
   "cell_type": "code",
   "execution_count": 111,
   "id": "aa9bdd97",
   "metadata": {},
   "outputs": [
    {
     "data": {
      "text/plain": [
       "(31104, 31680)"
      ]
     },
     "execution_count": 111,
     "metadata": {},
     "output_type": "execute_result"
    }
   ],
   "source": [
    "filters_to_drop[x] * kernel_length, (filters_to_drop[x] + 1) * kernel_length"
   ]
  },
  {
   "cell_type": "code",
   "execution_count": 88,
   "id": "bc85cf56",
   "metadata": {},
   "outputs": [
    {
     "data": {
      "text/plain": [
       "array([1., 0., 1., 1., 1., 0., 0., 1., 1., 1.])"
      ]
     },
     "execution_count": 88,
     "metadata": {},
     "output_type": "execute_result"
    }
   ],
   "source": [
    "codebook = np.ones(10)\n",
    "codebook [torch.argwhere(zero_mask).flatten()] = 0.\n",
    "codebook"
   ]
  },
  {
   "cell_type": "code",
   "execution_count": 112,
   "id": "0ba37f56",
   "metadata": {},
   "outputs": [
    {
     "data": {
      "text/plain": [
       "tensor([1, 5, 6])"
      ]
     },
     "execution_count": 112,
     "metadata": {},
     "output_type": "execute_result"
    }
   ],
   "source": [
    "torch.argwhere(zero_mask).flatten()\n"
   ]
  },
  {
   "cell_type": "code",
   "execution_count": 113,
   "id": "fa96c8ec",
   "metadata": {},
   "outputs": [
    {
     "data": {
      "text/plain": [
       "{43: tensor([-4.8341e-02, -4.8720e-02,  7.1807e-02,  2.5225e-04, -4.2191e-02,\n",
       "         -1.1910e-02,  6.2158e-02, -7.0841e-03,  4.7229e-02,  2.7006e-02,\n",
       "          6.2789e-02, -3.4458e-02, -1.6302e-02,  2.1500e-02,  2.3105e-03,\n",
       "          1.4970e-02, -2.1820e-02, -3.7678e-02,  5.0312e-03, -3.2694e-03,\n",
       "         -3.7495e-02, -4.9765e-02,  4.4089e-02,  1.3625e-02,  2.9618e-02,\n",
       "         -6.1345e-02,  5.4923e-03, -2.3954e-02,  1.2731e-02,  7.5863e-02,\n",
       "         -1.0076e-02, -3.4171e-02, -1.2854e-02,  3.9040e-03, -1.8586e-02,\n",
       "         -8.0657e-02, -3.3592e-02,  4.4364e-02, -1.1235e-02, -6.0786e-02,\n",
       "          3.5108e-02,  1.7534e-02,  1.4176e-02,  5.3376e-02, -4.9824e-02,\n",
       "         -3.4924e-02,  1.4142e-02,  6.2311e-03,  6.6892e-03, -1.0227e-01,\n",
       "         -2.3141e-02,  6.3364e-03,  9.4350e-03,  4.2865e-02, -1.0959e-02,\n",
       "         -3.8946e-02, -4.9236e-03,  1.9381e-02, -1.6585e-02,  4.1736e-02,\n",
       "          8.6434e-03, -5.0401e-02,  3.9664e-03,  4.7086e-02,  2.8266e-02,\n",
       "          1.8004e-02, -1.2644e-02, -2.3291e-02,  2.6272e-02,  1.6302e-02,\n",
       "          1.1049e-02, -4.6392e-02, -2.2683e-03,  1.2472e-02,  4.2610e-03,\n",
       "          2.8516e-02,  7.9571e-03, -6.8584e-02, -1.4060e-02,  3.0626e-02,\n",
       "          1.6331e-02, -4.5846e-02,  6.7546e-03, -7.6738e-02, -4.3721e-02,\n",
       "          1.0709e-02,  1.6406e-02, -2.8691e-03, -4.6428e-02,  1.4525e-02,\n",
       "         -5.5096e-02, -2.2552e-02,  2.3462e-02,  2.3113e-02,  2.2637e-02,\n",
       "          2.4090e-02, -7.6639e-03,  4.1977e-02,  7.1359e-03, -9.5748e-03,\n",
       "         -1.1291e-02,  1.7092e-02, -1.9197e-02,  5.4611e-02,  1.0768e-04,\n",
       "         -5.7405e-03, -5.0524e-02, -6.6790e-03, -4.5249e-02,  4.3497e-02,\n",
       "          9.0509e-02, -2.6095e-02, -2.5420e-03, -2.7898e-02, -2.0666e-02,\n",
       "          4.8823e-02,  1.2614e-02, -1.8199e-02,  4.5571e-03,  6.4878e-02,\n",
       "          7.3535e-03,  1.0100e-02,  5.2143e-04, -3.8938e-02, -5.1275e-02,\n",
       "         -4.6308e-03,  1.1595e-02, -3.1197e-02, -1.7234e-02, -4.1110e-02,\n",
       "          2.7972e-02, -3.0553e-02,  2.0171e-02, -3.2940e-02, -3.0615e-02,\n",
       "          3.7989e-03,  5.3443e-02,  1.4195e-02, -7.3361e-02,  1.4751e-02,\n",
       "          4.5929e-02, -1.0236e-02,  2.8947e-02, -8.1685e-03,  2.9179e-02,\n",
       "          1.0671e-03,  8.0229e-03, -3.2552e-02,  2.3972e-04, -1.5799e-02,\n",
       "          4.5091e-02, -4.7739e-02, -5.5325e-03, -8.9247e-03, -1.1431e-02,\n",
       "         -2.5930e-02,  3.4237e-02,  6.8347e-04,  3.5881e-03, -2.0796e-02,\n",
       "         -4.1088e-03, -5.2891e-02,  5.2595e-03, -6.3134e-03, -7.2883e-02,\n",
       "         -9.6585e-03, -2.3319e-03,  3.2704e-02, -6.7748e-02,  4.3990e-02,\n",
       "          2.1925e-03,  1.8943e-02,  4.2824e-02, -8.0704e-02, -3.5884e-03,\n",
       "         -1.3065e-02, -1.1858e-02, -1.6460e-02, -2.9109e-02, -7.8856e-02,\n",
       "          5.8755e-04, -2.5569e-02,  1.2073e-02,  2.6816e-02,  2.6347e-02,\n",
       "          4.9668e-02, -1.0307e-01, -1.5003e-02, -1.4128e-03, -2.8409e-02,\n",
       "          9.3196e-03,  1.2892e-02,  5.5026e-02, -2.7219e-02, -8.0879e-02,\n",
       "         -1.1801e-02,  3.9030e-02, -2.7101e-02,  2.5293e-02, -9.2665e-03,\n",
       "          4.9484e-03, -6.9916e-03,  1.9488e-02,  2.4594e-02,  9.5144e-03,\n",
       "         -6.8262e-02, -3.7610e-03, -1.6368e-02, -6.8608e-03, -1.4027e-02,\n",
       "         -4.4536e-03,  4.2371e-02, -1.9713e-02, -4.5307e-02, -6.1241e-06,\n",
       "         -1.6002e-02,  2.7829e-02,  1.9152e-02, -4.8749e-02, -2.6452e-02,\n",
       "          4.6201e-03, -3.3800e-02, -1.4124e-02, -1.1181e-03,  2.8493e-02,\n",
       "          6.3212e-02,  1.7005e-02,  7.7503e-03,  2.2517e-02,  6.9082e-02,\n",
       "         -3.1429e-02,  3.3522e-02,  4.4795e-02, -7.5784e-03, -2.3766e-02,\n",
       "         -4.6199e-02, -1.7336e-02, -1.8896e-02, -2.4058e-02,  5.9503e-02,\n",
       "         -4.1995e-02, -3.2983e-02, -1.4629e-02, -6.3206e-02,  1.0329e-02,\n",
       "         -6.6887e-02, -3.7166e-02,  4.4654e-02,  3.4178e-02,  1.5182e-02,\n",
       "         -2.9325e-03,  6.7940e-03, -2.8569e-02, -3.6704e-02,  4.9106e-02,\n",
       "          3.7803e-02, -5.6802e-02,  2.3402e-02,  4.7262e-02, -7.6440e-03,\n",
       "         -9.5450e-03,  4.5789e-02,  5.5206e-02,  3.1289e-03, -2.0814e-02,\n",
       "          1.7680e-02,  1.7276e-02,  6.6244e-02,  2.7110e-02,  4.0717e-02,\n",
       "         -3.9951e-03, -1.8408e-02, -3.6541e-02, -2.5624e-02, -3.3412e-02,\n",
       "         -2.4576e-02,  3.2693e-03, -1.8158e-02,  1.9505e-02,  6.9504e-02,\n",
       "         -3.3793e-02,  1.9105e-02, -7.5536e-02,  1.5815e-02,  3.7760e-02,\n",
       "          7.3332e-02, -7.2176e-02, -1.3926e-02,  4.9070e-02,  1.8927e-02,\n",
       "          8.2682e-02,  1.4395e-02, -6.2844e-02,  4.2938e-03,  7.9703e-03,\n",
       "          4.7057e-02,  3.5457e-02,  2.6569e-02,  2.8435e-02,  4.3098e-03,\n",
       "         -2.4441e-02, -3.9508e-02,  2.6680e-02,  2.0447e-04,  2.5745e-03,\n",
       "          3.9945e-02,  2.4216e-02, -1.0787e-02, -2.4213e-02, -3.3073e-02,\n",
       "         -2.0317e-02,  2.7041e-02, -3.3068e-02,  8.7176e-03, -3.3757e-02,\n",
       "          1.3241e-02,  1.9475e-02,  1.5845e-02, -8.5327e-03, -8.7859e-03,\n",
       "         -1.2858e-02, -1.2718e-02, -5.0730e-03,  4.0538e-03, -2.7147e-02,\n",
       "          1.7646e-02,  1.0810e-03, -3.7455e-02, -2.7065e-02,  1.8222e-02,\n",
       "         -3.9808e-02,  3.5815e-02,  7.9059e-03,  5.1534e-02, -3.2856e-02,\n",
       "          1.4847e-02, -4.3905e-02, -4.4840e-02, -2.9199e-02,  5.1667e-02,\n",
       "         -4.6504e-02,  6.9258e-02, -1.1968e-02,  1.7428e-02,  3.2286e-02,\n",
       "         -5.0528e-02,  2.1077e-02, -2.0758e-02, -1.2889e-03, -4.4416e-02,\n",
       "         -3.3739e-02, -2.9448e-03,  3.9196e-03,  2.5685e-02,  8.5676e-03,\n",
       "          3.3161e-03,  5.0741e-02, -8.3651e-03, -1.3505e-03, -1.2623e-02,\n",
       "          4.4129e-02,  1.9546e-02, -2.8739e-02,  2.3882e-02,  9.8254e-05,\n",
       "         -4.2099e-02, -2.5884e-02, -1.7494e-02,  3.8896e-02,  4.3033e-02,\n",
       "          2.1399e-02,  1.0554e-02, -5.6557e-02,  3.8121e-02,  6.2555e-02,\n",
       "         -3.8933e-02, -2.0813e-02, -1.4020e-03, -3.3040e-02, -3.8305e-02,\n",
       "         -6.1784e-02,  1.4475e-02, -1.4952e-02, -4.5825e-02,  1.6689e-02,\n",
       "          1.7477e-02,  6.5093e-02, -3.4298e-02,  7.3308e-03,  6.8549e-03,\n",
       "         -5.1749e-03,  2.8910e-02,  4.2543e-02,  1.5443e-02,  3.1105e-02,\n",
       "         -8.0821e-02, -4.6545e-02,  5.0753e-02, -3.8454e-03, -3.5826e-02,\n",
       "          2.9193e-02,  5.5968e-03,  4.1507e-02,  3.8505e-02, -3.6822e-02,\n",
       "         -6.0543e-02, -2.3329e-02, -1.8299e-02, -4.0563e-03,  1.8542e-02,\n",
       "         -3.1031e-02, -2.5318e-02,  6.4303e-02,  6.0815e-03, -7.2069e-02,\n",
       "          1.1780e-03,  4.7907e-02,  2.8108e-02,  4.2189e-02,  2.6391e-03,\n",
       "          9.5987e-03, -2.8696e-04, -3.2524e-02, -1.3427e-02,  2.5172e-02,\n",
       "          1.7861e-02, -9.7278e-03,  3.0191e-02, -3.2019e-02,  2.4654e-02,\n",
       "          5.7048e-02,  5.0683e-02,  3.9373e-02,  6.1283e-02,  5.1249e-03,\n",
       "         -2.9632e-02, -2.0200e-02, -4.8412e-02,  1.1803e-02, -2.6267e-02,\n",
       "         -5.6347e-02,  3.0156e-02,  3.1095e-02, -1.8895e-02,  7.6830e-02,\n",
       "         -8.3959e-02,  2.0040e-03,  4.3244e-02, -4.1286e-02,  3.3998e-02,\n",
       "          3.8678e-02,  3.9004e-02, -2.4363e-02,  2.1344e-02,  3.0472e-02,\n",
       "          5.0398e-03, -3.5083e-03, -3.7103e-02,  5.9602e-03, -6.2755e-02,\n",
       "         -8.1621e-02,  4.4230e-02, -6.7047e-03,  8.4063e-03, -5.6156e-02,\n",
       "         -4.6908e-02, -3.3776e-02, -3.0585e-02, -3.1569e-02, -1.0580e-02,\n",
       "         -2.9845e-02, -1.9567e-03,  1.8539e-02,  1.8111e-02, -3.1544e-02,\n",
       "         -3.9301e-02,  1.0880e-01, -3.6106e-02, -1.3716e-02,  1.4449e-02,\n",
       "          2.8436e-02, -4.1097e-02, -4.3900e-02,  1.8382e-02,  1.7597e-02,\n",
       "          1.0043e-02, -6.3503e-02, -1.5325e-02,  9.6465e-03, -1.1164e-02,\n",
       "          7.9915e-03,  3.8060e-02,  3.4866e-02,  6.0771e-02,  4.7863e-02,\n",
       "          1.0066e-03, -1.9212e-02, -3.3292e-02, -3.1748e-02,  3.8116e-02,\n",
       "          1.1160e-02,  7.0790e-02, -2.5019e-02, -1.8386e-02,  2.6388e-02,\n",
       "          7.1395e-02,  1.5645e-02,  7.8288e-02,  7.9456e-02,  8.7475e-03,\n",
       "          5.0102e-02,  1.3610e-02,  1.3223e-02, -4.6385e-02, -4.1537e-02,\n",
       "          1.8210e-02, -8.3660e-02, -8.3268e-03,  5.3215e-02, -2.4475e-02,\n",
       "         -2.4814e-02, -2.6490e-02,  1.9694e-02, -1.9355e-02, -4.2099e-02,\n",
       "          7.8703e-03, -5.4887e-03,  5.3248e-02, -1.5456e-03,  3.1157e-02,\n",
       "         -8.5487e-03,  1.2771e-02, -3.0117e-02,  1.1837e-02,  3.2553e-03,\n",
       "         -2.4161e-04,  4.3674e-02, -1.3543e-02, -5.0038e-02,  5.8331e-02,\n",
       "          7.0186e-03, -9.5362e-03, -1.0035e-02,  3.0462e-02,  2.5074e-02,\n",
       "         -2.5797e-03,  4.3030e-02,  6.8163e-02, -6.8238e-02,  2.4865e-02,\n",
       "          5.1807e-04,  6.6617e-02,  5.9083e-03,  3.0901e-02,  7.9452e-04,\n",
       "          3.1091e-02,  8.2145e-04,  3.2537e-02, -1.0123e-02, -2.2464e-02,\n",
       "          8.6073e-03,  7.7220e-03,  7.6760e-02,  5.0176e-02, -4.3708e-02,\n",
       "         -1.5042e-02,  4.7156e-02,  3.7598e-05, -4.2755e-02, -1.3046e-02,\n",
       "         -7.8228e-03, -5.1466e-02,  3.2058e-02, -1.8474e-02, -4.0245e-02,\n",
       "         -2.4370e-02]),\n",
       " 24: tensor([-3.1866e-02, -1.9008e-02, -8.4533e-03, -3.1998e-02, -2.6994e-02,\n",
       "          7.3956e-04, -2.0708e-02,  1.6267e-02, -3.8684e-02,  5.1125e-02,\n",
       "          1.1624e-02,  2.3753e-02, -3.1628e-02,  1.8607e-02, -7.2304e-03,\n",
       "          2.5016e-03,  4.1305e-03, -1.0245e-02, -7.5051e-03, -4.3795e-02,\n",
       "         -3.4238e-02,  6.8690e-03,  4.2529e-02, -3.7025e-02,  7.4219e-03,\n",
       "         -1.2918e-02, -2.6509e-02,  1.4399e-02,  6.0600e-02, -1.3462e-02,\n",
       "         -3.4519e-03,  1.1603e-02,  2.5497e-02,  1.4752e-02,  1.6709e-02,\n",
       "          2.5251e-02,  5.5331e-03, -2.9512e-02,  6.6090e-02, -4.8620e-02,\n",
       "          9.4154e-03, -8.4171e-03, -5.0107e-02, -3.3706e-02,  1.0133e-02,\n",
       "         -1.4569e-02,  4.1761e-02,  9.5787e-03, -1.0475e-02,  5.5233e-02,\n",
       "         -3.6682e-02,  5.7291e-02,  2.0142e-02, -2.5292e-03, -5.8322e-02,\n",
       "          1.3015e-02,  5.5406e-04, -1.3014e-02, -7.5543e-03,  1.3376e-02,\n",
       "         -8.3517e-03,  3.5162e-02,  2.2575e-02, -9.5722e-03,  1.2411e-02,\n",
       "         -1.1364e-02, -4.8911e-03, -7.2065e-03, -5.0562e-03, -4.9880e-02,\n",
       "          7.5557e-03,  5.7437e-02, -1.6654e-02, -2.2608e-02, -2.4269e-02,\n",
       "          2.0532e-02,  1.9929e-03,  6.1676e-02, -2.2199e-02,  6.4668e-03,\n",
       "          7.0511e-03,  3.2274e-02,  2.4895e-02,  6.1536e-03,  2.4106e-03,\n",
       "         -6.0778e-03,  3.1772e-02, -2.9809e-02,  4.6471e-03, -5.2560e-03,\n",
       "          6.8145e-02,  2.0155e-02,  2.4136e-02, -9.2450e-03,  1.5388e-02,\n",
       "         -3.1182e-03,  4.4626e-02,  2.3643e-02, -9.6076e-03,  4.1250e-02,\n",
       "         -4.0769e-02,  1.5478e-03,  5.6834e-02, -1.0336e-02, -2.5706e-02,\n",
       "          3.3686e-02,  1.3006e-02,  1.1633e-02,  4.5155e-02, -2.2903e-02,\n",
       "          5.4160e-02,  3.3015e-02,  8.4680e-03,  2.5005e-02, -4.6650e-02,\n",
       "          1.4174e-02,  3.6490e-03, -4.0193e-02,  1.0462e-02, -1.6081e-02,\n",
       "          2.6358e-04, -2.1399e-02, -3.8707e-02, -7.5359e-02,  3.6981e-02,\n",
       "          3.6320e-02,  3.5495e-02, -5.6779e-03,  1.6024e-02,  1.8865e-02,\n",
       "          2.0528e-02, -2.3424e-02, -2.0968e-02, -4.4804e-02, -8.3634e-03,\n",
       "          7.1144e-02, -1.8557e-02, -1.8211e-02, -3.9479e-03,  1.0906e-03,\n",
       "          9.0600e-03, -6.2624e-03, -1.4028e-02, -3.6237e-02,  4.8815e-02,\n",
       "          2.6451e-02,  5.2781e-03,  4.9227e-02,  3.3108e-02, -2.6532e-02,\n",
       "         -3.9855e-03, -5.2468e-02, -3.8561e-02,  1.8135e-02,  4.8512e-02,\n",
       "         -4.5483e-02,  4.9970e-02, -9.6253e-03,  2.8794e-02, -1.5021e-02,\n",
       "         -4.5163e-02,  1.4944e-02, -1.6178e-02, -1.7268e-02, -1.9668e-02,\n",
       "         -2.1440e-02,  1.5229e-02,  1.7652e-02,  1.5652e-02,  8.0949e-02,\n",
       "         -1.1291e-02, -3.1453e-03, -3.3805e-03,  7.5445e-03, -1.1717e-02,\n",
       "          1.5558e-02,  4.6803e-03,  4.2061e-03,  1.2233e-02,  4.6925e-02,\n",
       "          1.6218e-03, -2.4515e-02,  1.3033e-02, -1.5440e-02, -1.4647e-03,\n",
       "         -2.5349e-02,  2.7453e-03,  1.5057e-02,  7.5874e-03, -2.6131e-02,\n",
       "         -3.8698e-02,  6.2293e-03, -4.9048e-02, -3.4147e-02, -1.0155e-02,\n",
       "          3.6329e-03,  8.2083e-02, -1.5032e-02, -1.6154e-02,  3.7307e-02,\n",
       "          1.1879e-02,  3.5841e-02,  3.2207e-02,  4.4114e-03, -1.9017e-02,\n",
       "          2.2911e-02,  9.1508e-03,  6.9158e-03,  2.6268e-03, -6.8350e-02,\n",
       "         -4.2233e-02,  1.0680e-02,  3.1083e-03, -2.8667e-02,  1.4828e-02,\n",
       "         -4.7668e-03,  4.8794e-03,  3.2376e-03, -8.9880e-03,  2.0754e-02,\n",
       "         -1.5952e-02, -7.8321e-02,  9.2363e-03, -1.9069e-02,  2.0023e-02,\n",
       "         -8.5737e-03,  1.8941e-02,  1.2412e-02,  5.3271e-02, -2.4745e-02,\n",
       "         -5.2271e-02,  1.5716e-02,  3.8181e-02, -1.2676e-02,  2.8736e-02,\n",
       "          1.6982e-02,  2.1457e-03,  3.7777e-02, -1.8281e-02, -1.0514e-02,\n",
       "         -1.7113e-02,  1.7882e-02,  8.1434e-03, -9.1639e-02,  1.8049e-02,\n",
       "         -5.7310e-02, -1.7667e-03,  5.4949e-02, -2.3177e-02,  3.5237e-02,\n",
       "          8.3718e-05,  1.7964e-02, -1.8790e-02,  7.6033e-03,  4.5966e-03,\n",
       "         -2.4867e-02, -3.6498e-02, -9.2802e-03,  1.8202e-02, -1.0739e-04,\n",
       "          9.8970e-03,  1.2185e-03, -2.5331e-02,  4.7803e-02,  1.7041e-02,\n",
       "         -2.9476e-02, -1.0140e-02, -3.0718e-03,  2.7876e-03,  4.3480e-03,\n",
       "         -3.3574e-02, -1.4416e-02,  4.8227e-03, -2.8455e-02, -4.7597e-02,\n",
       "          4.7763e-02, -2.8960e-02, -2.3532e-02,  1.6739e-04,  3.1679e-02,\n",
       "          8.2433e-03,  9.6487e-03,  7.7069e-03, -2.5897e-02,  2.1813e-02,\n",
       "         -8.4186e-02, -1.9889e-02, -8.9181e-03, -2.7802e-02, -2.5481e-02,\n",
       "         -5.7390e-02,  2.6249e-02, -1.7921e-03,  1.6022e-02, -8.6006e-04,\n",
       "          2.4802e-02, -7.9517e-03, -2.8278e-03, -1.8229e-03, -5.3563e-03,\n",
       "         -2.6039e-02,  2.4512e-02,  1.7891e-02, -2.3452e-02,  2.3012e-02,\n",
       "         -4.2198e-03, -2.8965e-02, -8.8523e-03, -1.3311e-02,  4.8811e-02,\n",
       "         -1.3545e-02,  4.1897e-02,  1.2580e-02,  6.7725e-04, -2.5277e-02,\n",
       "          1.2628e-02,  9.1276e-03, -1.0270e-02, -2.0863e-02, -2.9228e-02,\n",
       "         -5.4946e-02, -2.9424e-02,  4.2044e-02,  4.5421e-02, -3.7113e-03,\n",
       "          2.5076e-02, -4.2783e-02,  4.0948e-02,  1.5257e-02, -1.1127e-02,\n",
       "          3.6751e-02,  3.5386e-02,  1.8215e-03, -1.0735e-02, -3.3742e-02,\n",
       "         -3.9708e-03, -1.7117e-02,  1.4744e-02, -3.3758e-02, -6.2233e-02,\n",
       "         -7.3944e-03,  3.3673e-03,  3.0510e-02,  9.3184e-03,  2.3508e-02,\n",
       "          5.2661e-02,  5.4658e-02,  4.6196e-02,  3.4122e-02,  3.1665e-02,\n",
       "         -1.8214e-02, -3.7679e-02,  2.9729e-02,  3.1248e-02,  3.1371e-02,\n",
       "         -1.4407e-02, -1.1629e-02,  3.7151e-03, -3.7939e-02, -3.2672e-04,\n",
       "         -6.2446e-03, -8.0384e-03, -2.2428e-03, -1.8672e-02,  3.0280e-02,\n",
       "         -1.6847e-02, -4.9724e-03,  3.6127e-02,  1.5959e-02, -4.8250e-02,\n",
       "          3.4782e-03, -1.0953e-02,  2.5306e-02,  5.6775e-02,  3.1359e-03,\n",
       "         -6.0445e-03,  5.0550e-02,  1.8767e-02, -1.2837e-02,  2.6000e-02,\n",
       "          4.0428e-02,  1.1209e-02,  3.8121e-02,  4.0890e-03, -1.8180e-02,\n",
       "         -5.0761e-03,  1.3589e-02,  7.0794e-04,  3.5043e-03,  6.1004e-02,\n",
       "         -4.9887e-02,  5.2469e-02,  1.0958e-02,  2.0008e-02, -1.7150e-02,\n",
       "         -3.9826e-02,  1.8908e-02,  3.9859e-02,  3.4650e-02, -3.8852e-02,\n",
       "         -6.2342e-03, -1.1387e-02, -2.4187e-03,  2.6205e-02, -4.0509e-02,\n",
       "         -1.3042e-02,  2.7009e-02,  3.8647e-02,  8.8981e-03, -4.5928e-02,\n",
       "         -2.6034e-02,  4.8351e-03, -2.2813e-02,  8.6698e-03, -6.4899e-02,\n",
       "          5.8281e-03,  1.7234e-02,  7.6911e-02, -6.1859e-03, -4.1172e-02,\n",
       "         -2.6162e-02,  1.9232e-02, -2.2098e-02, -2.7433e-02,  4.5280e-02,\n",
       "          2.1919e-02, -1.3242e-02, -3.8802e-02,  2.4549e-02,  1.8090e-02,\n",
       "          1.2400e-03, -3.3559e-02, -9.3281e-03,  9.9364e-04,  2.3294e-02,\n",
       "         -3.9079e-02, -1.1273e-02, -6.2936e-02,  3.3302e-02,  1.7516e-02,\n",
       "          9.0566e-03, -3.4847e-02, -2.6690e-02, -2.3237e-02,  1.9158e-02,\n",
       "          2.3245e-02,  1.1363e-02,  4.8053e-02,  1.7030e-02,  7.1424e-03,\n",
       "         -6.5655e-02, -1.2858e-02, -7.3315e-02,  1.1497e-02,  1.6663e-03,\n",
       "         -3.6254e-03, -4.7619e-02,  7.4123e-03,  8.1211e-03,  1.4727e-02,\n",
       "         -3.6070e-02, -1.7565e-02,  3.2841e-02,  4.3483e-03, -2.7033e-02,\n",
       "         -1.6573e-03,  8.2173e-03,  5.4119e-02,  2.8565e-02,  2.3025e-02,\n",
       "         -4.4683e-02, -5.1228e-02,  3.4133e-02,  7.5609e-03,  6.0697e-04,\n",
       "          1.0647e-02, -1.8896e-02,  1.4342e-03,  2.8223e-02, -9.4921e-03,\n",
       "         -2.4290e-02,  3.9863e-02, -2.2566e-02,  2.8342e-02,  6.4431e-03,\n",
       "          3.4921e-02,  1.1295e-02,  1.0364e-02, -3.5559e-02, -6.8157e-03,\n",
       "          1.7830e-02, -1.2351e-02, -6.3209e-02,  2.3194e-02,  2.9137e-02,\n",
       "          1.6257e-02, -3.4018e-02, -1.0132e-02,  2.0013e-02, -9.1925e-04,\n",
       "         -2.0457e-03,  2.1991e-02, -4.8349e-02, -2.1827e-02,  1.5223e-02,\n",
       "          5.3706e-02,  1.6756e-03, -2.8082e-02,  3.6424e-02,  3.0721e-02,\n",
       "          3.2867e-02, -3.6992e-02,  5.2029e-03, -2.0719e-02, -4.5811e-02,\n",
       "         -5.7457e-03,  1.2451e-03, -9.3469e-03, -7.0196e-02,  4.9804e-03,\n",
       "         -2.0515e-03,  2.3399e-02, -3.5133e-02, -1.2079e-02, -2.0240e-02,\n",
       "         -5.9266e-02,  2.0534e-02,  5.5238e-02, -1.7757e-03, -8.1237e-03,\n",
       "          5.4392e-02, -1.0395e-02, -9.0523e-04,  1.7464e-02,  1.5777e-02,\n",
       "         -2.9774e-02,  5.9038e-02,  7.9751e-04, -1.8472e-02, -2.6266e-02,\n",
       "         -2.5532e-02,  9.6302e-04,  8.2766e-03, -1.2483e-02, -9.7088e-03,\n",
       "         -1.6221e-02,  5.6490e-02, -1.2491e-02, -1.6177e-02, -2.2395e-02,\n",
       "         -3.0966e-02, -1.3129e-02, -6.3239e-03, -1.5047e-02, -1.9562e-02,\n",
       "         -2.7999e-02,  6.0100e-03, -1.2924e-02,  2.4433e-04, -4.1790e-02,\n",
       "         -1.0748e-02,  1.4790e-03,  5.6488e-03,  2.4142e-02,  4.5118e-02,\n",
       "          2.0336e-02, -5.4786e-02,  1.7987e-02,  4.3483e-02,  1.6021e-02,\n",
       "          3.8654e-03,  1.9135e-02, -2.4580e-03,  1.6404e-02, -1.2426e-02,\n",
       "          6.4090e-04]),\n",
       " 31: tensor([-6.7492e-02,  6.1480e-03, -6.3406e-02,  2.9696e-02, -6.9730e-02,\n",
       "          3.7802e-02, -7.4741e-02,  1.5613e-02,  7.0967e-02, -1.5434e-03,\n",
       "         -4.5579e-02, -5.6428e-02,  2.3499e-02,  1.7319e-02,  2.0449e-02,\n",
       "          9.9267e-02,  8.6077e-02, -6.1764e-03, -2.2937e-02, -1.0699e-01,\n",
       "         -1.1366e-02, -7.2590e-03,  4.3610e-02, -6.7862e-02,  8.0084e-02,\n",
       "         -5.9354e-02, -2.8868e-02,  6.3540e-02, -2.7706e-02, -1.1970e-02,\n",
       "         -1.0034e-03,  6.9138e-02, -5.0376e-02, -1.2259e-01, -2.4959e-02,\n",
       "          1.5760e-02,  9.2863e-03,  2.2411e-02,  1.1028e-01,  1.5335e-01,\n",
       "         -1.5465e-03, -2.4946e-02,  7.8890e-04,  4.6029e-02,  9.2243e-02,\n",
       "         -7.8552e-02, -5.5466e-04,  3.8508e-02, -2.4142e-03, -9.9442e-02,\n",
       "          2.3500e-02,  3.0227e-02,  1.2735e-01, -3.8848e-02,  4.3139e-02,\n",
       "          3.5479e-02, -4.8620e-02,  8.7884e-02,  2.5034e-02, -1.2514e-02,\n",
       "          5.3944e-02, -9.4892e-04,  1.5308e-02, -1.7841e-01,  1.8556e-02,\n",
       "         -8.7489e-03, -4.0290e-02,  9.9651e-02, -5.4320e-02,  6.0288e-03,\n",
       "         -1.9017e-02,  3.1748e-02,  3.3088e-02,  3.4340e-02,  5.6014e-02,\n",
       "          4.5171e-02, -2.6054e-02, -9.9220e-02, -2.5550e-02,  6.1505e-04,\n",
       "         -8.1605e-03,  3.9380e-02,  1.4558e-02, -1.7014e-02, -1.4723e-02,\n",
       "          3.8260e-02, -8.0761e-02,  1.1735e-01, -7.7146e-03, -3.3500e-03,\n",
       "         -7.0550e-02, -5.3148e-02, -1.3673e-02, -4.0514e-02,  1.6821e-02,\n",
       "         -7.8041e-02, -4.0763e-02, -2.1422e-02,  1.0933e-01,  8.7947e-02,\n",
       "          1.0062e-02,  4.5346e-02,  1.5740e-03, -3.7585e-02,  3.3590e-02,\n",
       "         -1.6577e-02,  1.9240e-02, -2.0257e-02,  4.6634e-02,  2.9129e-03,\n",
       "          1.1550e-01,  5.2092e-02, -1.3728e-02, -1.4096e-02,  7.5298e-02,\n",
       "          9.2285e-02, -1.8066e-02,  1.6669e-02, -7.0694e-02,  3.8954e-02,\n",
       "         -5.9003e-02, -5.2399e-02,  6.9773e-03,  1.6725e-02,  2.0782e-02,\n",
       "          9.2480e-02, -3.9150e-02, -5.8878e-03,  7.0737e-02, -7.1878e-03,\n",
       "         -1.0587e-01,  7.6284e-02,  1.1182e-02,  6.4839e-02,  8.3002e-02,\n",
       "         -2.3853e-02,  2.8596e-02, -6.6696e-03,  1.0847e-02,  8.7947e-02,\n",
       "         -2.7063e-02, -1.1937e-01, -2.1877e-02, -8.6982e-03, -9.1187e-03,\n",
       "          1.0114e-01, -8.1472e-02, -4.9126e-02, -5.6711e-02,  8.4826e-02,\n",
       "          7.1869e-02,  6.1988e-03, -5.1889e-02, -1.8882e-02,  1.1673e-01,\n",
       "          2.6588e-03, -2.4609e-02, -6.7966e-02, -7.0662e-02,  6.1163e-02,\n",
       "         -2.7704e-02, -7.2505e-02, -1.0550e-01,  9.8700e-02, -5.2349e-02,\n",
       "         -6.4226e-02,  1.4711e-02,  5.9195e-03, -3.0029e-02, -1.2395e-01,\n",
       "          7.9923e-02, -7.4694e-02, -6.8160e-02, -1.0674e-02, -6.4945e-02,\n",
       "         -3.1697e-02, -7.7975e-02, -8.5238e-02,  1.9091e-02, -8.8345e-02,\n",
       "          2.3079e-02,  2.8911e-02,  2.1951e-02,  1.0377e-01,  5.3770e-02,\n",
       "         -9.1808e-02, -4.6086e-02, -1.8857e-02, -5.5276e-02,  1.3187e-02,\n",
       "         -3.3130e-02, -1.3793e-02,  2.5158e-02, -8.1767e-02, -2.8561e-02,\n",
       "          1.7430e-02, -2.1901e-02, -2.9035e-02,  1.2160e-01, -3.9232e-02,\n",
       "         -3.8671e-02,  3.4482e-02, -3.9104e-02, -1.2563e-03,  9.7871e-02,\n",
       "          4.8504e-02,  3.9578e-02,  1.1440e-03,  4.5122e-02,  2.8482e-02,\n",
       "          3.5325e-02, -9.9501e-02,  4.3439e-03,  2.3459e-02, -3.2266e-03,\n",
       "          3.2404e-02,  1.2512e-02, -1.8364e-02,  1.3320e-02, -1.1544e-02,\n",
       "         -8.5719e-04, -8.7415e-03,  2.2798e-02,  1.5549e-02,  7.6803e-02,\n",
       "         -7.4194e-02,  5.2422e-02,  6.8654e-03,  1.3729e-01,  4.4831e-02,\n",
       "         -1.8536e-04,  2.7201e-02,  8.8717e-02, -1.7017e-02,  5.0408e-02,\n",
       "          7.7625e-02,  1.1733e-02, -4.2026e-02, -3.0599e-02,  1.0273e-02,\n",
       "          9.1251e-02,  1.0586e-01, -3.7987e-02, -1.3887e-02,  1.0780e-02,\n",
       "         -2.8775e-02, -3.0809e-02, -3.9710e-02,  8.1723e-02,  1.3052e-02,\n",
       "          8.1397e-02, -5.3999e-02,  2.8147e-02,  2.1630e-03,  5.4502e-02,\n",
       "         -2.2699e-02,  2.8180e-02, -4.0127e-02, -2.2391e-02, -8.8930e-02,\n",
       "         -1.2841e-03, -5.7267e-02, -6.1271e-02,  4.9910e-02,  8.4145e-02,\n",
       "         -1.4021e-01, -2.9730e-02,  2.2314e-02,  6.0027e-02,  2.9008e-02,\n",
       "          1.1099e-01,  7.1594e-02,  1.1182e-01,  6.2184e-03,  5.0103e-03,\n",
       "         -9.6816e-02, -5.5355e-02,  6.1203e-03, -1.2703e-02,  3.0684e-02,\n",
       "         -7.4213e-02, -2.0816e-02, -1.1658e-01, -4.7302e-03,  1.3860e-02,\n",
       "          3.9131e-02,  5.4513e-02, -5.5940e-03,  7.7573e-02, -2.3524e-02,\n",
       "          4.3659e-03, -2.5482e-03,  5.3549e-02, -3.2974e-02,  1.0163e-01,\n",
       "          5.9128e-02, -6.0131e-02,  9.3064e-02,  6.1007e-02,  9.3382e-05,\n",
       "          5.3234e-02, -2.6196e-02, -5.5845e-02, -1.2916e-01,  2.4016e-02,\n",
       "          7.5777e-02,  2.7603e-02,  4.3812e-02, -4.1783e-02, -6.2715e-02,\n",
       "         -3.0610e-02,  2.1258e-02, -1.8711e-02, -4.8141e-02,  6.9545e-02,\n",
       "          9.6835e-02,  4.5430e-02, -1.0686e-04,  1.0349e-02, -5.6770e-02,\n",
       "          1.8692e-02,  7.3940e-02, -1.1570e-02,  8.0820e-02,  2.6360e-02,\n",
       "         -4.1598e-02, -2.3639e-03, -1.3517e-02,  3.0697e-02,  1.5485e-02,\n",
       "          4.7597e-02,  3.8933e-02,  1.3510e-01, -1.1881e-02,  3.0052e-02,\n",
       "          5.0559e-02, -2.5600e-02, -2.0554e-02,  3.5364e-02, -1.0822e-01,\n",
       "          5.0171e-02, -3.7742e-02, -4.7422e-02, -4.9270e-02, -5.6702e-03,\n",
       "         -7.2760e-04, -2.4022e-02,  1.6450e-02, -8.7717e-02,  3.8406e-02,\n",
       "          5.7408e-02,  5.0534e-02,  5.6796e-02, -3.2062e-02,  5.0774e-02,\n",
       "         -2.3298e-02, -3.2130e-02, -2.0897e-02, -3.6766e-02,  4.0374e-02,\n",
       "          2.2046e-03,  6.3628e-02,  6.8508e-02,  6.5973e-02, -3.8192e-02,\n",
       "          6.4626e-02, -4.4970e-02, -3.4733e-02,  1.0788e-01, -2.3480e-02,\n",
       "         -1.9279e-02,  3.9815e-02, -1.1170e-01,  8.2294e-02,  1.1365e-01,\n",
       "          5.9189e-02,  2.7596e-02, -6.6408e-02,  1.3797e-02,  8.7423e-03,\n",
       "         -9.7643e-02,  3.3359e-02,  3.4889e-02,  7.0390e-02, -3.7181e-02,\n",
       "          8.8957e-02, -3.7803e-02,  5.9463e-02, -9.7470e-02,  7.1556e-02,\n",
       "          2.4200e-02, -3.1653e-02,  6.9569e-02,  9.3149e-02,  7.9368e-03,\n",
       "         -2.2892e-02, -7.1586e-03,  7.9738e-02, -5.6557e-02,  9.9739e-03,\n",
       "         -4.7962e-02,  1.1089e-01, -3.4069e-03,  3.0063e-03, -1.1985e-02,\n",
       "          1.4731e-01,  8.5331e-02,  7.5642e-02, -4.1856e-02,  6.8525e-02,\n",
       "          5.0580e-02,  6.6208e-02,  2.2586e-02, -7.6013e-02,  3.4474e-02,\n",
       "          4.5847e-02, -2.8206e-02, -4.8247e-02, -9.1019e-02,  9.3008e-03,\n",
       "         -3.7459e-02, -4.9382e-02,  2.6515e-02,  8.7303e-02,  3.1801e-02,\n",
       "          1.1685e-01, -1.0473e-02,  7.0959e-02, -5.5795e-02,  9.5674e-02,\n",
       "          6.3246e-02, -1.8828e-02, -2.5368e-02,  1.5762e-02, -5.3158e-02,\n",
       "          6.0010e-02, -4.5911e-02, -9.9815e-03,  8.4756e-02, -8.1345e-02,\n",
       "          7.9072e-02, -5.5541e-02,  1.1736e-02, -8.4661e-02,  1.3867e-01,\n",
       "          5.6736e-03, -9.8899e-03,  1.3432e-01,  1.8541e-02,  3.7221e-03,\n",
       "          7.2229e-03, -3.0232e-02,  8.1020e-02,  5.9659e-02,  5.9182e-04,\n",
       "         -3.8459e-02, -7.8288e-02,  3.8632e-02,  1.3109e-03,  1.9015e-03,\n",
       "          1.5347e-02, -7.0398e-02,  9.5082e-02, -1.8970e-02, -8.7290e-02,\n",
       "         -4.4520e-02, -4.3750e-02,  3.1881e-02,  4.1712e-02, -1.1626e-01,\n",
       "          7.3434e-02, -3.8037e-02, -4.3339e-02,  1.4905e-02,  6.3726e-03,\n",
       "          4.0310e-03,  3.5075e-02, -1.2022e-01,  2.5832e-02, -2.9725e-02,\n",
       "         -2.4572e-02,  1.6187e-02,  1.0362e-01,  1.0366e-02,  5.0657e-02,\n",
       "         -8.3355e-02, -2.8098e-02,  1.2960e-01, -6.2880e-02,  1.3309e-03,\n",
       "          3.1896e-02,  1.2203e-01, -8.0259e-02,  1.3155e-01, -1.8513e-03,\n",
       "          8.9094e-02,  6.8336e-02,  1.2776e-02, -3.5503e-03,  7.6041e-03,\n",
       "         -1.2585e-02, -5.9209e-02,  1.0715e-02, -2.3414e-02,  2.1227e-02,\n",
       "          1.4317e-02,  7.8949e-02,  5.1810e-02,  7.1313e-03,  1.0685e-02,\n",
       "          6.9116e-02,  1.1437e-02,  1.3421e-01, -1.3236e-02, -1.0287e-01,\n",
       "          5.4804e-02, -5.1820e-02,  7.5753e-02, -1.2147e-01,  4.0824e-02,\n",
       "          4.6701e-02, -2.0233e-02,  4.7416e-02, -1.4667e-01, -8.1088e-03,\n",
       "          3.4554e-02,  6.7966e-02,  7.1112e-02, -2.0372e-02,  8.2850e-03,\n",
       "          5.2624e-02, -6.0907e-02,  2.4696e-02,  7.8369e-02, -7.5337e-02,\n",
       "         -7.5830e-04, -2.3454e-02,  7.1716e-02, -3.2517e-02,  1.4919e-01,\n",
       "          9.0276e-03, -9.4754e-02,  8.4995e-02, -2.5665e-02,  6.6579e-02,\n",
       "         -4.7841e-02,  2.4397e-02,  4.2618e-02, -2.7160e-04, -4.2264e-02,\n",
       "         -2.1514e-02, -4.1886e-03, -2.3477e-02,  6.4241e-02,  9.6916e-02,\n",
       "          2.7562e-02, -7.8989e-02,  1.8626e-02, -5.8974e-02,  1.2874e-01,\n",
       "          3.6685e-02, -8.7993e-02, -1.6740e-02, -9.5828e-02,  9.9841e-03,\n",
       "         -5.9560e-02,  1.0581e-02, -8.4833e-02,  4.7660e-02,  2.3808e-02,\n",
       "          1.7512e-02,  2.5693e-02,  3.3179e-03, -1.7172e-02,  8.3924e-02,\n",
       "         -1.7449e-02]),\n",
       " 15: tensor([ 3.2614e-02,  3.8486e-02,  2.1252e-02,  1.0863e-01,  5.3602e-02,\n",
       "          3.9251e-03,  3.2972e-02,  5.5687e-02, -1.4134e-02, -2.6751e-02,\n",
       "         -7.8794e-03, -4.8882e-04,  4.6577e-02,  9.0231e-02, -1.9967e-03,\n",
       "         -5.8049e-02,  1.0753e-02,  6.6633e-02,  4.5344e-02, -8.4671e-03,\n",
       "          3.9535e-02, -5.0468e-02, -3.0924e-02,  4.3330e-02,  5.0370e-02,\n",
       "         -3.9789e-02,  7.1446e-02,  8.7111e-02, -1.1782e-02,  2.1560e-02,\n",
       "         -4.5906e-02,  6.9388e-02, -8.9216e-02, -8.3479e-02, -1.4069e-01,\n",
       "         -1.4144e-02,  8.4515e-02,  2.7385e-02,  5.5162e-02,  7.8670e-02,\n",
       "         -7.3164e-02, -3.8440e-02,  4.8224e-02,  1.8686e-02,  4.6273e-02,\n",
       "          3.8920e-03, -7.7314e-02, -6.4565e-02, -8.3938e-03, -2.4843e-02,\n",
       "          1.8605e-02,  9.3816e-02, -2.0246e-02, -2.1247e-03,  1.3678e-01,\n",
       "         -3.5851e-02, -8.4212e-02, -6.4741e-03, -6.5460e-02, -4.7774e-02,\n",
       "          5.6373e-02, -5.4233e-02, -1.0896e-02, -1.1745e-02,  4.0254e-02,\n",
       "         -1.5364e-02,  8.7941e-02, -6.8232e-02,  2.3552e-02,  7.6582e-02,\n",
       "         -7.0858e-02, -1.3175e-01, -1.2987e-01,  3.2707e-02, -6.6115e-02,\n",
       "          7.5924e-03,  1.7929e-02, -4.3109e-02,  1.8088e-02,  1.5162e-01,\n",
       "         -9.9489e-02, -2.5771e-02, -1.3920e-02,  2.2752e-02,  2.8407e-02,\n",
       "          5.5141e-02,  5.4800e-02,  5.4122e-02, -2.5535e-02,  3.4428e-03,\n",
       "         -4.6252e-02, -6.5594e-02, -4.2679e-02, -1.8219e-02, -2.2505e-02,\n",
       "         -2.7762e-02, -2.2654e-03,  3.3305e-02, -1.9057e-02, -3.4108e-02,\n",
       "         -4.0324e-02, -2.2768e-02, -5.2800e-02,  2.3299e-03, -3.0463e-02,\n",
       "         -5.8741e-02, -4.5222e-02,  3.7804e-02, -4.6672e-03,  1.4091e-01,\n",
       "         -2.3649e-02,  6.1002e-02,  3.0938e-02, -6.7418e-04, -5.1818e-02,\n",
       "          3.5495e-02, -2.1838e-02,  2.7524e-02,  1.2590e-02, -6.2342e-02,\n",
       "         -8.5109e-02,  1.3763e-02,  3.0647e-02, -5.2602e-02, -2.2683e-02,\n",
       "         -7.8770e-02, -4.8970e-02, -8.0165e-02,  5.2728e-02, -3.6780e-02,\n",
       "         -2.9924e-02, -2.6646e-02, -3.6232e-03, -3.8909e-02,  3.0954e-02,\n",
       "          7.7778e-03, -5.0245e-02, -4.1677e-02,  4.6026e-02,  1.9441e-02,\n",
       "         -6.4556e-02,  5.7000e-03, -7.7967e-02, -3.4234e-02, -8.6903e-02,\n",
       "         -1.2530e-01, -2.5256e-02,  4.2735e-02,  1.6147e-02, -3.9758e-02,\n",
       "         -2.6332e-02, -5.4587e-02,  4.7809e-02, -3.4664e-02,  8.0356e-02,\n",
       "          4.2129e-03, -3.2912e-02,  6.5080e-02,  4.3068e-02, -4.6714e-02,\n",
       "         -1.0399e-01,  1.2994e-01,  2.1123e-02,  5.5461e-02, -1.9764e-02,\n",
       "         -1.2324e-02,  9.0498e-03, -2.8296e-02, -1.8911e-02, -2.0585e-02,\n",
       "          3.2515e-02, -2.0509e-02, -7.7493e-02, -9.2634e-03, -5.9490e-02,\n",
       "         -3.3676e-02,  4.9411e-02,  1.0146e-01, -4.5581e-02,  1.0439e-01,\n",
       "          1.3614e-02, -8.8166e-02,  1.8458e-02, -3.6211e-02,  3.0321e-02,\n",
       "         -8.1153e-02, -3.8974e-02,  3.4531e-02,  1.4289e-02, -9.3671e-03,\n",
       "         -4.5481e-03,  4.4072e-02, -6.2716e-02, -1.0301e-01, -4.2424e-02,\n",
       "         -5.9568e-03,  3.8989e-02, -4.2913e-02, -9.5897e-02,  4.6473e-03,\n",
       "          1.9604e-02, -1.8337e-02, -9.6664e-03,  2.1111e-02,  4.3113e-02,\n",
       "          7.5189e-02, -4.9278e-02, -6.5960e-02,  4.2888e-02,  9.1893e-02,\n",
       "          5.4312e-02,  1.0275e-02,  5.8800e-02,  2.2620e-02,  4.7364e-02,\n",
       "          2.3729e-02, -1.3452e-01,  1.0519e-01, -5.7427e-02, -4.6787e-02,\n",
       "          1.3307e-02, -4.0792e-02,  2.3502e-02, -3.7361e-02,  9.5020e-04,\n",
       "         -1.7481e-02, -2.0513e-01,  1.3341e-01, -1.6373e-02,  1.3231e-02,\n",
       "         -7.5055e-02,  4.3346e-02, -4.9168e-03, -4.0221e-02,  2.0184e-02,\n",
       "         -9.1077e-02, -7.6198e-02,  2.0578e-02, -4.6997e-02,  2.8346e-02,\n",
       "          2.2212e-02, -5.7479e-02,  9.4719e-03, -2.8040e-02, -9.5836e-03,\n",
       "          1.0569e-02,  1.0867e-01,  4.3175e-02,  4.9077e-02,  6.4909e-02,\n",
       "          1.7450e-02,  6.0975e-02, -8.9822e-02,  8.5263e-02, -2.4288e-02,\n",
       "          6.0737e-02, -9.6191e-02, -4.7221e-02, -1.8136e-01,  1.3110e-02,\n",
       "         -4.2617e-02, -4.5308e-02,  1.3834e-03, -4.2957e-02, -3.0108e-02,\n",
       "         -3.5960e-02, -6.8502e-02, -6.5109e-02,  1.3432e-02, -3.1349e-02,\n",
       "          5.3721e-02,  8.7415e-02,  3.1563e-02, -5.2032e-02, -2.6283e-02,\n",
       "          7.2775e-03, -2.5593e-03, -7.7746e-02,  2.7162e-02,  1.9175e-03,\n",
       "         -7.1185e-02, -1.6938e-02, -3.7768e-02, -1.6372e-02,  3.5019e-02,\n",
       "         -3.9961e-02,  2.2729e-02,  2.8613e-02,  4.6556e-02,  6.0777e-02,\n",
       "          4.1976e-02, -3.4214e-02, -6.0794e-02,  7.8079e-02, -3.4200e-02,\n",
       "         -4.2652e-03,  2.8813e-02, -2.5961e-02,  2.5327e-03, -4.4284e-02,\n",
       "         -3.4222e-02, -1.8058e-02,  7.0511e-02, -6.7307e-02,  3.7832e-02,\n",
       "         -2.1492e-02,  7.5860e-02, -4.4399e-02,  1.1715e-02,  5.0053e-02,\n",
       "          6.5154e-02,  2.0400e-02,  5.4748e-02,  7.7844e-03,  1.2068e-01,\n",
       "         -1.9294e-02,  1.9607e-02, -4.5074e-02, -4.1505e-03,  6.6167e-02,\n",
       "          4.0535e-03,  6.2559e-03, -1.0210e-02,  5.7409e-02,  4.9757e-02,\n",
       "         -3.9450e-02, -9.1871e-02, -1.1645e-01, -9.3221e-02, -3.4054e-02,\n",
       "         -4.6012e-02, -8.8241e-02, -3.4374e-02, -8.7539e-02, -6.8494e-03,\n",
       "          7.6170e-03,  7.2081e-02,  8.1409e-02, -3.2028e-02, -3.1915e-02,\n",
       "          4.9672e-02, -8.4232e-02,  5.8931e-02, -3.7346e-02, -2.3110e-03,\n",
       "          1.0513e-01, -3.6046e-02,  4.2837e-02,  2.3700e-02, -1.3435e-03,\n",
       "          6.0491e-02,  3.0723e-02, -3.1869e-02,  6.0177e-02,  7.2968e-02,\n",
       "         -6.6022e-03, -1.3038e-01,  2.2106e-02,  8.3097e-02,  3.4856e-02,\n",
       "          5.0496e-02, -3.1618e-02, -9.2272e-02,  1.5867e-02,  3.4884e-02,\n",
       "         -2.4549e-02,  7.9305e-02,  9.5247e-03,  6.3064e-02, -2.7485e-02,\n",
       "         -6.7006e-03, -3.9798e-02,  8.5680e-02, -3.1980e-02, -6.3758e-03,\n",
       "         -4.9395e-02, -5.0501e-02, -8.2289e-03,  4.1306e-02, -7.0516e-02,\n",
       "          5.4597e-02,  5.3115e-03,  2.9024e-02, -2.5561e-02, -7.8286e-02,\n",
       "          1.8807e-02, -5.0432e-02,  3.6767e-02,  8.5310e-02, -6.8161e-02,\n",
       "          1.2978e-02, -8.6592e-02, -3.9058e-03, -2.8363e-03, -1.2885e-02,\n",
       "          1.1263e-02, -8.5960e-02,  3.9233e-02, -9.6712e-02, -1.0856e-02,\n",
       "         -2.7570e-02,  4.4873e-02,  4.6036e-02, -1.2943e-02, -6.7535e-02,\n",
       "         -1.5959e-02,  3.7306e-03, -5.5411e-02,  1.6286e-02, -6.7273e-02,\n",
       "         -5.2748e-02, -3.4265e-02,  2.0013e-02, -5.0079e-02, -3.2596e-02,\n",
       "         -2.9446e-02,  4.4103e-02, -3.6168e-02,  1.0828e-01,  5.1866e-02,\n",
       "         -2.7983e-02,  4.4154e-03,  6.1771e-02, -2.9393e-02,  2.7168e-02,\n",
       "          5.0514e-02, -1.5988e-03, -6.5005e-02, -2.3163e-02,  4.0227e-02,\n",
       "         -3.8293e-02,  6.7155e-02, -1.1640e-01, -2.5774e-02,  9.9267e-02,\n",
       "          4.2731e-02, -1.8033e-02, -1.9523e-02, -1.1682e-01, -1.4522e-01,\n",
       "         -1.0076e-01, -2.1942e-02,  5.9964e-02, -3.8627e-02,  1.9388e-02,\n",
       "         -7.7923e-02,  3.6601e-02, -1.0672e-01,  1.1442e-02,  1.4780e-01,\n",
       "         -3.6396e-02,  1.4689e-02, -7.5853e-03, -4.2679e-03,  2.5848e-02,\n",
       "         -9.7489e-02,  6.8405e-02, -4.8271e-02, -1.1789e-02, -8.0142e-02,\n",
       "         -3.0964e-02, -1.2555e-02,  1.8104e-02, -6.9364e-03, -4.6322e-02,\n",
       "         -1.2549e-01,  9.0202e-03,  5.1761e-02, -6.7876e-02,  2.7316e-02,\n",
       "          6.4305e-03, -1.1637e-02, -3.1931e-02, -1.1153e-01,  1.5010e-01,\n",
       "          5.2111e-02,  4.9106e-02, -4.2221e-02, -6.2043e-02, -7.7511e-02,\n",
       "         -3.2366e-02,  2.2654e-02, -4.6508e-02, -6.3097e-02,  3.5824e-02,\n",
       "          1.5644e-03,  4.8943e-02, -1.8723e-02,  1.6530e-02,  5.7313e-02,\n",
       "         -1.0386e-01,  8.5530e-03,  8.5939e-02,  6.5069e-02, -1.4604e-02,\n",
       "         -1.0486e-01, -4.0625e-02,  6.2706e-02,  6.6182e-02, -1.6171e-02,\n",
       "         -1.7367e-02, -1.7860e-02, -1.0311e-01,  6.3712e-02,  7.8992e-02,\n",
       "         -1.0884e-02, -2.4982e-02,  1.7190e-02,  1.4051e-01,  3.1892e-02,\n",
       "          1.0011e-01, -2.9499e-02, -3.5047e-02, -2.6896e-02, -1.5372e-01,\n",
       "         -4.0385e-02,  9.5360e-02, -7.5462e-02,  9.8799e-02,  1.2619e-01,\n",
       "          2.8058e-02, -3.2104e-02, -2.6793e-04,  9.3991e-02, -2.8445e-02,\n",
       "          4.4894e-02,  5.3472e-02,  2.2740e-03, -6.9465e-02, -7.7063e-02,\n",
       "          5.8014e-02, -5.2648e-02,  1.1011e-01,  2.2890e-02,  1.2273e-01,\n",
       "         -2.5952e-02, -5.3345e-02, -1.3729e-02,  6.5682e-02,  4.4201e-03,\n",
       "          9.8353e-02,  1.0404e-01,  5.6214e-02,  1.3911e-02,  6.7777e-02,\n",
       "          1.3344e-02,  6.2581e-02, -4.2051e-02,  2.0922e-04, -1.2197e-02,\n",
       "         -1.0385e-01,  7.4977e-02,  3.4649e-02,  2.4192e-02,  7.0954e-02,\n",
       "          3.3896e-02, -3.6423e-02, -5.4512e-02, -2.5588e-03,  2.1156e-02,\n",
       "          1.6040e-02, -8.5205e-02,  1.0115e-01, -7.3410e-02,  6.7384e-02,\n",
       "          2.1437e-02,  5.0611e-02, -9.6938e-02, -1.2589e-02,  1.7212e-02,\n",
       "         -4.8039e-02,  4.0513e-02,  2.6377e-02, -4.4266e-02, -1.4716e-04,\n",
       "          8.4062e-02]),\n",
       " 30: tensor([-3.6912e-02,  1.3857e-02, -4.5439e-02, -4.7576e-02, -9.2213e-02,\n",
       "         -2.9055e-02,  3.0405e-02, -5.6719e-02,  1.1635e-01, -4.5910e-02,\n",
       "          7.7020e-02, -3.1174e-02, -6.2009e-03,  4.7318e-02, -5.5232e-02,\n",
       "          8.2750e-03,  6.1495e-02,  4.5267e-02,  7.5857e-02,  4.3148e-02,\n",
       "         -9.4773e-02,  5.6050e-02, -4.3952e-03,  9.0962e-02,  3.9455e-02,\n",
       "          8.7629e-03, -4.3218e-02, -9.2349e-03,  5.0760e-02, -5.8654e-02,\n",
       "         -7.8265e-03,  1.9065e-02, -4.7179e-02,  3.4875e-02, -4.6556e-02,\n",
       "         -2.0568e-03, -2.9178e-02,  4.5718e-02,  9.5873e-02, -6.0258e-02,\n",
       "          2.8118e-03, -1.5830e-01,  5.9087e-02,  8.7197e-02, -2.2915e-02,\n",
       "         -1.9832e-02, -5.0315e-02, -4.5589e-02, -1.8546e-02, -4.8741e-02,\n",
       "          2.1695e-03, -5.2120e-02, -5.1451e-02, -6.8365e-02,  1.7410e-02,\n",
       "         -2.4941e-02,  9.2222e-02, -1.1109e-02, -4.9467e-02,  1.6260e-02,\n",
       "         -1.1548e-01,  1.1096e-02,  1.3993e-02, -1.0479e-02, -5.7115e-02,\n",
       "         -4.6386e-02,  2.0766e-02,  4.0160e-02, -5.7392e-03,  4.1789e-02,\n",
       "          9.1380e-03, -9.5455e-02,  1.0354e-01, -1.6229e-01,  7.9526e-02,\n",
       "          6.0430e-03,  4.2594e-02, -2.3198e-02, -5.6962e-02, -6.6674e-02,\n",
       "         -3.8242e-02,  9.3256e-02, -5.0984e-02, -9.1526e-02, -3.3314e-02,\n",
       "         -2.1893e-02, -3.7364e-02, -8.0904e-03, -7.0179e-02, -1.7985e-02,\n",
       "         -2.8780e-02,  8.5681e-03,  1.0928e-02, -7.5304e-02, -3.4841e-02,\n",
       "         -5.0112e-02, -1.1346e-02,  7.9228e-03, -2.9697e-02,  1.0884e-01,\n",
       "          4.9668e-02, -7.4350e-02, -1.0977e-03, -1.1300e-02,  2.5811e-02,\n",
       "         -2.9061e-02, -8.2561e-02, -3.8577e-02, -1.2870e-02,  8.6810e-02,\n",
       "         -5.1075e-03, -5.9294e-04,  2.6089e-02,  3.9119e-02, -7.7632e-02,\n",
       "         -3.8409e-02, -4.9697e-02,  3.4724e-02,  2.6433e-02,  5.7530e-03,\n",
       "         -7.3151e-02,  1.1590e-03, -7.0278e-02,  1.8826e-02, -6.0964e-02,\n",
       "         -6.3181e-02, -7.6138e-03, -8.7844e-02, -7.6241e-03, -8.3256e-03,\n",
       "         -1.0023e-01, -4.8161e-02,  4.2223e-03, -5.1576e-02, -2.7790e-02,\n",
       "          1.4278e-02, -1.3380e-02,  7.4402e-02,  9.3422e-03, -3.9814e-05,\n",
       "          4.7229e-02, -2.0490e-02, -7.4823e-02, -7.3984e-02, -1.7626e-02,\n",
       "          4.6361e-02, -2.4241e-03,  9.2041e-02,  8.7658e-03,  7.0818e-02,\n",
       "          5.1061e-02,  1.2575e-01, -3.0192e-02,  3.5554e-02, -5.8967e-02,\n",
       "          2.6333e-02, -4.3161e-02,  2.6590e-02,  4.2105e-02,  3.7934e-02,\n",
       "          1.1806e-01,  3.4216e-02,  1.2741e-01,  6.4003e-02,  3.2466e-02,\n",
       "         -4.2061e-03, -3.4188e-02,  2.4758e-02,  1.4887e-02,  9.6243e-03,\n",
       "         -1.1936e-01,  3.3080e-02,  1.1627e-01,  7.1086e-02,  1.9960e-02,\n",
       "         -4.8634e-02, -3.1187e-02, -1.1339e-01,  8.9228e-03,  1.5904e-02,\n",
       "          9.6713e-02,  9.0316e-02,  4.5261e-02, -1.1292e-02, -6.4641e-02,\n",
       "         -2.9786e-02,  3.7531e-02, -8.2702e-03,  2.4293e-02,  9.3475e-02,\n",
       "         -2.8466e-02, -2.1914e-02, -3.9713e-02, -1.2445e-02,  3.3356e-02,\n",
       "         -1.5404e-02, -3.3033e-02, -1.1616e-02,  6.0574e-02, -3.8100e-02,\n",
       "         -4.0231e-02, -4.5240e-02, -7.8444e-02,  1.6916e-01, -6.5463e-02,\n",
       "         -1.4798e-03,  8.3065e-02,  5.9732e-03, -9.8343e-02, -3.6124e-02,\n",
       "         -1.0701e-01, -2.2740e-02, -3.0778e-02, -1.2822e-02, -5.5915e-02,\n",
       "          9.9318e-02, -4.8185e-02, -4.7449e-03, -2.8681e-03, -2.8268e-03,\n",
       "          1.3846e-02,  3.1956e-03, -2.2645e-02,  1.0648e-03, -2.8979e-02,\n",
       "          2.4483e-02, -2.1577e-02, -5.1203e-03, -6.0876e-02, -1.1787e-01,\n",
       "         -7.0993e-02, -3.4260e-02, -2.3179e-02, -7.1738e-02, -3.3050e-02,\n",
       "          1.1809e-01, -3.6966e-02,  6.7173e-03,  2.1560e-02, -8.0364e-02,\n",
       "         -3.1933e-02,  9.2667e-02,  4.9889e-02,  9.5170e-02,  2.7572e-02,\n",
       "          2.1589e-02,  9.9855e-02,  7.9995e-02,  1.7815e-02, -1.3771e-01,\n",
       "         -1.6523e-02,  7.0910e-03,  1.7589e-02,  3.2061e-02,  2.7198e-02,\n",
       "         -5.1618e-03, -4.0419e-02, -2.1986e-02, -3.2513e-02,  8.3927e-02,\n",
       "         -8.0426e-03, -1.8952e-02,  2.4740e-03, -3.1680e-02,  3.9524e-02,\n",
       "          5.7043e-02,  9.1900e-03, -1.5026e-02,  1.5207e-02,  1.0266e-01,\n",
       "         -8.0926e-02,  7.3863e-03, -5.1240e-02, -2.3014e-02,  2.2214e-02,\n",
       "         -8.0786e-02, -5.8955e-03, -1.3778e-02, -2.3541e-02,  8.0950e-02,\n",
       "          1.0129e-01, -1.4094e-02, -5.8872e-03, -4.4347e-02,  1.1016e-02,\n",
       "          2.0857e-02,  6.5182e-02, -4.2465e-02, -6.3214e-02,  7.0602e-03,\n",
       "         -8.2552e-03,  1.2535e-01, -6.1068e-03, -7.4353e-02,  1.4849e-02,\n",
       "         -2.3649e-02, -1.1762e-01, -3.1329e-02, -5.6994e-02,  1.9537e-03,\n",
       "         -2.2543e-02, -5.9150e-02, -2.6382e-02,  8.0498e-02, -1.2038e-02,\n",
       "          3.1199e-02, -5.3772e-02, -5.0778e-02, -2.0965e-02, -4.9075e-02,\n",
       "          6.5100e-02,  5.7796e-03,  7.8347e-02, -2.0656e-02, -1.3933e-02,\n",
       "         -2.6996e-02, -5.0717e-02,  2.2085e-02,  8.5349e-02,  3.6253e-02,\n",
       "         -5.5496e-02,  6.0975e-02,  2.4910e-02,  1.0979e-02,  1.0723e-01,\n",
       "          8.0466e-02,  7.7950e-04,  3.7454e-02, -9.2166e-02,  2.9142e-02,\n",
       "         -1.2751e-02,  4.0639e-02,  4.9206e-02,  9.6267e-03, -3.4207e-02,\n",
       "          1.7509e-02, -2.8797e-02, -2.8331e-02, -1.0891e-01,  3.5968e-02,\n",
       "          1.5603e-02,  5.9567e-02,  1.0956e-01,  7.1602e-02, -1.4957e-02,\n",
       "          3.5652e-02, -5.2690e-02,  5.5447e-02, -2.3534e-02,  1.7570e-01,\n",
       "          5.0901e-03,  4.2050e-04,  3.5634e-03,  2.2623e-02, -7.1409e-02,\n",
       "         -8.5342e-02, -3.0125e-02,  1.1846e-02,  4.7363e-02,  3.2500e-02,\n",
       "         -6.4677e-02, -9.7131e-03, -1.0571e-01,  2.8559e-02,  2.2345e-02,\n",
       "          2.7555e-02, -1.3876e-03,  2.7449e-02, -4.9252e-02,  1.8226e-02,\n",
       "          1.5013e-01, -2.7701e-02,  4.9092e-02, -5.6165e-02, -7.6653e-02,\n",
       "          1.2691e-02, -4.2067e-02,  1.6143e-02, -5.3111e-02,  1.2479e-01,\n",
       "          8.9236e-03,  1.9305e-02,  6.2777e-02, -9.1412e-02, -2.0698e-02,\n",
       "          2.8668e-02, -5.1529e-02,  2.9276e-02, -3.2168e-02,  1.1051e-01,\n",
       "          1.0492e-01,  7.5282e-02, -1.2442e-01, -4.4763e-03,  1.0603e-01,\n",
       "         -4.6674e-02,  1.7509e-01, -5.8268e-02, -2.8753e-02,  2.2119e-02,\n",
       "          3.8902e-02,  6.9209e-03, -2.3110e-02,  8.9638e-02,  3.6551e-02,\n",
       "          1.4779e-02, -6.3047e-02, -3.0519e-02, -4.7319e-02,  1.0493e-02,\n",
       "          6.5880e-02, -1.2607e-01, -5.9441e-02,  5.8714e-02,  1.0474e-01,\n",
       "         -1.0209e-03,  1.3285e-01,  2.0912e-02,  7.0849e-02,  2.3473e-02,\n",
       "         -5.9497e-02, -6.1399e-02, -4.2434e-02,  3.7779e-02, -2.5456e-02,\n",
       "         -1.3340e-01,  4.4821e-02,  4.1194e-02,  4.2437e-02, -4.4120e-02,\n",
       "         -9.9697e-02,  2.9613e-02, -3.7133e-02, -2.2456e-02, -2.6466e-02,\n",
       "          2.3873e-03,  6.2538e-03,  3.8523e-02, -2.7235e-02,  4.5909e-02,\n",
       "         -1.3800e-01, -7.3214e-02,  2.6953e-02,  1.9989e-02, -7.3303e-03,\n",
       "         -6.7004e-03, -1.0547e-01, -4.6065e-02, -8.1012e-02,  1.4416e-02,\n",
       "         -5.3692e-02, -2.5014e-02,  1.0578e-01,  9.9900e-02,  1.8902e-02,\n",
       "          2.1121e-03,  7.0856e-02, -3.3067e-02, -3.6769e-02, -7.7913e-02,\n",
       "          3.6528e-02, -4.9675e-02, -1.0694e-02,  8.0159e-03,  1.1837e-01,\n",
       "         -2.9391e-02, -6.1590e-02, -8.8185e-02, -6.9931e-02,  9.6479e-02,\n",
       "          6.0247e-02, -4.5511e-02,  7.4363e-02,  3.5152e-02,  9.9252e-02,\n",
       "         -9.6674e-02,  2.9851e-02, -4.8511e-02,  4.0361e-02,  1.0468e-02,\n",
       "          2.0235e-02, -6.5023e-02,  7.7236e-02,  5.0642e-02,  7.9732e-02,\n",
       "         -2.8642e-02, -6.7078e-03, -2.5493e-02,  6.1063e-02,  1.0803e-02,\n",
       "          8.1896e-03, -6.1005e-02,  5.8988e-02,  5.6722e-02, -4.3831e-02,\n",
       "         -1.9069e-02, -7.1721e-02,  5.4206e-02, -2.2071e-02, -1.0137e-02,\n",
       "          1.0979e-01,  4.0371e-02,  8.4533e-03, -3.2590e-02,  1.4090e-01,\n",
       "          5.5584e-02, -4.4750e-02,  1.9846e-02,  8.2754e-02,  6.5192e-02,\n",
       "          8.0119e-02, -8.8918e-02, -1.0170e-01,  2.8663e-02,  1.0354e-02,\n",
       "          3.9717e-02, -3.2026e-02,  1.2942e-02, -6.5686e-02,  1.0802e-01,\n",
       "         -3.3594e-02,  1.4398e-01, -1.2821e-02,  1.3634e-01,  3.7750e-02,\n",
       "         -7.0304e-02,  3.5631e-02, -6.3599e-02,  7.2524e-02, -4.6545e-02,\n",
       "         -7.8815e-03,  2.5677e-02, -4.6909e-02,  1.2198e-02,  1.0240e-01,\n",
       "         -3.2313e-02, -2.6692e-02,  2.5591e-02, -1.9160e-02,  8.3082e-03,\n",
       "          8.3674e-02, -9.4556e-03, -2.3143e-02, -5.6746e-02,  2.8114e-02,\n",
       "          4.3367e-02,  7.5943e-02,  6.0914e-03,  3.7778e-03, -1.1119e-01,\n",
       "         -3.0612e-02,  5.5802e-02, -5.8686e-02,  4.5833e-02, -7.3418e-02,\n",
       "         -2.4369e-02,  3.4537e-02, -1.6169e-02, -9.2435e-02,  1.7325e-02,\n",
       "          3.3063e-02, -4.0057e-02, -4.1984e-02, -1.3692e-01, -6.3798e-02,\n",
       "         -5.7974e-03,  6.7439e-02, -2.7112e-02,  3.8087e-02, -3.8090e-02,\n",
       "         -3.0677e-03, -1.8818e-03, -1.3424e-01, -5.1309e-02,  1.0502e-01,\n",
       "          4.0867e-02])}"
      ]
     },
     "execution_count": 113,
     "metadata": {},
     "output_type": "execute_result"
    }
   ],
   "source": [
    "filters_to_reinit"
   ]
  },
  {
   "cell_type": "code",
   "execution_count": 139,
   "id": "11b166e6",
   "metadata": {},
   "outputs": [
    {
     "data": {
      "text/plain": [
       "{3, 4}"
      ]
     },
     "execution_count": 139,
     "metadata": {},
     "output_type": "execute_result"
    }
   ],
   "source": [
    "dictionary[new_key] = dictionary.pop(old_key)"
   ]
  },
  {
   "cell_type": "code",
   "execution_count": null,
   "id": "a8570c1a",
   "metadata": {},
   "outputs": [],
   "source": []
  },
  {
   "cell_type": "code",
   "execution_count": 140,
   "id": "3a4489b7",
   "metadata": {},
   "outputs": [
    {
     "data": {
      "text/plain": [
       "[{1, 2}, {5, 6}]"
      ]
     },
     "execution_count": 140,
     "metadata": {},
     "output_type": "execute_result"
    }
   ],
   "source": [
    "self.model"
   ]
  },
  {
   "cell_type": "code",
   "execution_count": 90,
   "id": "e7a7dad9",
   "metadata": {},
   "outputs": [],
   "source": [
    "cluster = [{1,2}, {4,5}]\n",
    "#cl_indx = [cl_el.key for cl_el in cluster if cl_el ] "
   ]
  },
  {
   "cell_type": "code",
   "execution_count": 93,
   "id": "dbcbd9da",
   "metadata": {},
   "outputs": [
    {
     "data": {
      "text/plain": [
       "[0]"
      ]
     },
     "execution_count": 93,
     "metadata": {},
     "output_type": "execute_result"
    }
   ],
   "source": [
    "search = [8,1]\n",
    "cluster_indx = [i for i in range(len(cluster)) if (search[0] in cluster[i] or search[1] in cluster[i])]\n",
    "cluster_indx"
   ]
  },
  {
   "cell_type": "code",
   "execution_count": 101,
   "id": "c44caf50",
   "metadata": {},
   "outputs": [
    {
     "data": {
      "text/plain": [
       "{1, 2}"
      ]
     },
     "execution_count": 101,
     "metadata": {},
     "output_type": "execute_result"
    }
   ],
   "source": [
    "a = {1,2}\n",
    "a.add(1)\n",
    "a.add(2)\n",
    "a"
   ]
  },
  {
   "cell_type": "code",
   "execution_count": null,
   "id": "6de61fe5",
   "metadata": {},
   "outputs": [],
   "source": []
  },
  {
   "cell_type": "code",
   "execution_count": 66,
   "id": "041e9f53",
   "metadata": {},
   "outputs": [
    {
     "name": "stdout",
     "output_type": "stream",
     "text": [
      "{32: [40]}\n",
      "{32: [40], 31: [63]}\n",
      "{32: [40], 31: [63], 33: [53]}\n",
      "key 33 value [53] pair [33 33  5]\n",
      "{32: [40], 31: [63], 5: [53, 33]}\n",
      "{32: [40], 31: [63], 5: [53, 33], 19: [30]}\n",
      "key 31 value [63] pair [31 63 56]\n",
      "{32: [40], 5: [53, 33], 19: [30], 56: [63, 31]}\n",
      "key 56 value [63, 31] pair [56 56 26]\n",
      "{32: [40], 5: [53, 33], 19: [30], 26: [63, 31, 56]}\n",
      "{32: [40], 5: [53, 33], 19: [30], 26: [63, 31, 56], 9: [57]}\n",
      "key 26 value [63, 31, 56] pair [26 26  7]\n",
      "{32: [40], 5: [53, 33], 19: [30], 9: [57], 7: [63, 31, 56, 26]}\n",
      "key 7 value [63, 31, 56, 26] pair [ 7 63 33]\n",
      "{32: [40], 5: [53, 33], 19: [30], 9: [57], 33: [63, 31, 56, 26, 7]}\n",
      "key 5 value [53, 33] pair [ 5 56 43]\n"
     ]
    },
    {
     "ename": "AssertionError",
     "evalue": "",
     "output_type": "error",
     "traceback": [
      "\u001b[0;31m---------------------------------------------------------------------------\u001b[0m",
      "\u001b[0;31mAssertionError\u001b[0m                            Traceback (most recent call last)",
      "Input \u001b[0;32mIn [66]\u001b[0m, in \u001b[0;36m<cell line: 6>\u001b[0;34m()\u001b[0m\n\u001b[1;32m     11\u001b[0m new_cluster_center \u001b[38;5;241m=\u001b[39m [value \u001b[38;5;28;01mfor\u001b[39;00m value \u001b[38;5;129;01min\u001b[39;00m i \u001b[38;5;28;01mif\u001b[39;00m value \u001b[38;5;129;01mnot\u001b[39;00m \u001b[38;5;129;01min\u001b[39;00m topo_dict[i[\u001b[38;5;241m0\u001b[39m]]]\n\u001b[1;32m     12\u001b[0m \u001b[38;5;66;03m#print(new_cluster_center,\"key\",i[0], \"value\", topo_dict[i[0]],)\u001b[39;00m\n\u001b[1;32m     13\u001b[0m \u001b[38;5;66;03m#print(topo_dict.keys())\u001b[39;00m\n\u001b[0;32m---> 14\u001b[0m \u001b[38;5;28;01massert\u001b[39;00m \u001b[38;5;28mlen\u001b[39m(new_cluster_center)\u001b[38;5;241m==\u001b[39m\u001b[38;5;241m1\u001b[39m\n\u001b[1;32m     15\u001b[0m new_cluster_center\u001b[38;5;241m=\u001b[39m new_cluster_center[\u001b[38;5;241m0\u001b[39m]\n\u001b[1;32m     16\u001b[0m topo_dict[new_cluster_center] \u001b[38;5;241m=\u001b[39m topo_dict\u001b[38;5;241m.\u001b[39mpop(i[\u001b[38;5;241m0\u001b[39m])\n",
      "\u001b[0;31mAssertionError\u001b[0m: "
     ]
    }
   ],
   "source": [
    "# key - cluster centers, value - removed values associated to this cluster\n",
    "#print(generators[0][0], )\n",
    "#print(generators[0][-1])\n",
    "topo_dict ={generators[0][0][-1]: [generators[0][0][0]]}\n",
    "print(topo_dict)\n",
    "for i in generators[0][1:]:\n",
    "    if i[0] in topo_dict.keys():\n",
    "    # else - add to the existing cluster  \n",
    "        print(\"key\",i[0], \"value\", topo_dict[i[0]],\"pair\", i)\n",
    "        topo_dict[i[0]].append(i[0])\n",
    "        new_cluster_center = [value for value in i if value not in topo_dict[i[0]]]\n",
    "        #print(new_cluster_center,\"key\",i[0], \"value\", topo_dict[i[0]],)\n",
    "        #print(topo_dict.keys())\n",
    "        assert len(new_cluster_center)==1\n",
    "        new_cluster_center= new_cluster_center[0]\n",
    "        topo_dict[new_cluster_center] = topo_dict.pop(i[0])\n",
    "    else:\n",
    "        if i[0] == i[1]:\n",
    "            topo_dict[i[2]] = [i[0]] \n",
    "        if i[0] == i[2]:\n",
    "            topo_dict[i[1]] = [i[0]]\n",
    "    print(topo_dict)"
   ]
  },
  {
   "cell_type": "code",
   "execution_count": 26,
   "id": "c489b4a2",
   "metadata": {},
   "outputs": [
    {
     "data": {
      "text/plain": [
       "1"
      ]
     },
     "execution_count": 26,
     "metadata": {},
     "output_type": "execute_result"
    }
   ],
   "source": [
    "a = {\"a\":1, \"b\":2}\n",
    "a.fin"
   ]
  },
  {
   "cell_type": "code",
   "execution_count": 118,
   "id": "caa3fd62",
   "metadata": {},
   "outputs": [
    {
     "data": {
      "text/plain": [
       "[1, 2, 3, 4, 5, 6]"
      ]
     },
     "execution_count": 118,
     "metadata": {},
     "output_type": "execute_result"
    }
   ],
   "source": [
    "a = np.array([1,2,3])\n",
    "b = np.array([4,5,6])\n",
    "list(a)+list(b)"
   ]
  },
  {
   "cell_type": "code",
   "execution_count": null,
   "id": "dce099e9",
   "metadata": {},
   "outputs": [],
   "source": []
  },
  {
   "cell_type": "code",
   "execution_count": null,
   "id": "5b10ac17",
   "metadata": {},
   "outputs": [],
   "source": []
  },
  {
   "cell_type": "code",
   "execution_count": null,
   "id": "a71d782d",
   "metadata": {},
   "outputs": [],
   "source": []
  },
  {
   "cell_type": "code",
   "execution_count": 38,
   "id": "95643090",
   "metadata": {},
   "outputs": [
    {
     "data": {
      "text/plain": [
       "array([[40, 40, 32],\n",
       "       [63, 63, 31],\n",
       "       [53, 53, 33],\n",
       "       [33, 33,  5],\n",
       "       [30, 30, 19],\n",
       "       [31, 63, 56],\n",
       "       [56, 56, 26],\n",
       "       [57, 57,  9],\n",
       "       [26, 26,  7],\n",
       "       [ 7, 63, 33],\n",
       "       [ 5, 56, 43],\n",
       "       [42, 42, 33],\n",
       "       [43, 26, 21],\n",
       "       [37, 37, 33],\n",
       "       [25, 25, 13],\n",
       "       [ 9,  9,  8],\n",
       "       [21, 42, 32],\n",
       "       [58, 58, 26],\n",
       "       [32, 33, 20],\n",
       "       [20, 43, 19],\n",
       "       [19, 30,  6],\n",
       "       [ 6, 63, 62],\n",
       "       [62, 58, 47],\n",
       "       [47, 63, 57],\n",
       "       [49, 49, 32],\n",
       "       [60, 60,  6],\n",
       "       [ 8, 63,  3],\n",
       "       [ 3, 47, 46],\n",
       "       [46, 57, 36],\n",
       "       [36, 33, 29],\n",
       "       [50, 50, 32],\n",
       "       [48, 48, 32],\n",
       "       [13, 13,  9],\n",
       "       [27, 27, 26],\n",
       "       [11, 11,  7],\n",
       "       [29, 63, 17],\n",
       "       [41, 41, 32],\n",
       "       [17, 26,  2],\n",
       "       [59, 59, 32],\n",
       "       [ 2, 33,  4],\n",
       "       [ 4, 32, 14],\n",
       "       [52, 52,  6],\n",
       "       [39, 39, 26],\n",
       "       [44, 44,  7],\n",
       "       [35, 35, 31],\n",
       "       [14, 11,  1],\n",
       "       [55, 55, 19],\n",
       "       [45, 45, 26],\n",
       "       [ 1, 60, 24],\n",
       "       [24, 57, 23],\n",
       "       [38, 38, 26],\n",
       "       [23, 52, 34],\n",
       "       [61, 61, 57],\n",
       "       [34, 57, 16],\n",
       "       [28, 28,  7],\n",
       "       [54, 54, 32],\n",
       "       [22, 22, 13],\n",
       "       [16, 23, 18],\n",
       "       [18, 50,  0],\n",
       "       [ 0, 63, 12],\n",
       "       [12, 38, 10],\n",
       "       [15, 15,  9],\n",
       "       [10, 63, 51]])"
      ]
     },
     "execution_count": 38,
     "metadata": {},
     "output_type": "execute_result"
    }
   ],
   "source": [
    "generators[0]"
   ]
  },
  {
   "cell_type": "code",
   "execution_count": 32,
   "id": "d497ab95",
   "metadata": {},
   "outputs": [],
   "source": [
    "generators = generators[0]"
   ]
  },
  {
   "cell_type": "code",
   "execution_count": null,
   "id": "313336f3",
   "metadata": {},
   "outputs": [],
   "source": []
  },
  {
   "cell_type": "code",
   "execution_count": null,
   "id": "5695ca79",
   "metadata": {},
   "outputs": [],
   "source": []
  },
  {
   "cell_type": "code",
   "execution_count": 64,
   "id": "0730d1b8",
   "metadata": {},
   "outputs": [
    {
     "data": {
      "text/plain": [
       "[True,\n",
       " False,\n",
       " False,\n",
       " False,\n",
       " False,\n",
       " False,\n",
       " False,\n",
       " False,\n",
       " False,\n",
       " False,\n",
       " True,\n",
       " False,\n",
       " False,\n",
       " False,\n",
       " False,\n",
       " False,\n",
       " False,\n",
       " False,\n",
       " False,\n",
       " False,\n",
       " False,\n",
       " False,\n",
       " False,\n",
       " False,\n",
       " False,\n",
       " True,\n",
       " False,\n",
       " False,\n",
       " False,\n",
       " False,\n",
       " False,\n",
       " False,\n",
       " False,\n",
       " False,\n",
       " False,\n",
       " False,\n",
       " False,\n",
       " False,\n",
       " False,\n",
       " False,\n",
       " False,\n",
       " False,\n",
       " False,\n",
       " False,\n",
       " False,\n",
       " False,\n",
       " False,\n",
       " False,\n",
       " False,\n",
       " False,\n",
       " False,\n",
       " False,\n",
       " False,\n",
       " False,\n",
       " False,\n",
       " False,\n",
       " False,\n",
       " False,\n",
       " False,\n",
       " False,\n",
       " False,\n",
       " False,\n",
       " False,\n",
       " True]"
      ]
     },
     "execution_count": 64,
     "metadata": {},
     "output_type": "execute_result"
    }
   ],
   "source": [
    "## Discard zeroed filters from the analysis\n",
    "[all(weight_vec[i]==0) for i in range(len(weight_vec))]"
   ]
  },
  {
   "cell_type": "code",
   "execution_count": 56,
   "id": "9ae338fa",
   "metadata": {},
   "outputs": [
    {
     "data": {
      "text/plain": [
       "tensor([0., 0., 0., 0., 0., 0., 0., 0., 0., 0., 0., 0., 0., 0., 0., 0., 0., 0., 0., 0., 0., 0., 0., 0.,\n",
       "        0., 0., 0., 0., 0., 0., 0., 0., 0., 0., 0., 0., 0., 0., 0., 0., 0., 0., 0., 0., 0., 0., 0., 0.,\n",
       "        0., 0., 0., 0., 0., 0., 0., 0., 0., 0., 0., 0., 0., 0., 0., 0., 0., 0., 0., 0., 0., 0., 0., 0.,\n",
       "        0., 0., 0., 0., 0., 0., 0., 0., 0., 0., 0., 0., 0., 0., 0., 0., 0., 0., 0., 0., 0., 0., 0., 0.,\n",
       "        0., 0., 0., 0., 0., 0., 0., 0., 0., 0., 0., 0., 0., 0., 0., 0., 0., 0., 0., 0., 0., 0., 0., 0.,\n",
       "        0., 0., 0., 0., 0., 0., 0., 0., 0., 0., 0., 0., 0., 0., 0., 0., 0., 0., 0., 0., 0., 0., 0., 0.,\n",
       "        0., 0., 0., 0., 0., 0., 0., 0., 0., 0., 0., 0., 0., 0., 0., 0., 0., 0., 0., 0., 0., 0., 0., 0.,\n",
       "        0., 0., 0., 0., 0., 0., 0., 0., 0., 0., 0., 0., 0., 0., 0., 0., 0., 0., 0., 0., 0., 0., 0., 0.,\n",
       "        0., 0., 0., 0., 0., 0., 0., 0., 0., 0., 0., 0., 0., 0., 0., 0., 0., 0., 0., 0., 0., 0., 0., 0.,\n",
       "        0., 0., 0., 0., 0., 0., 0., 0., 0., 0., 0., 0., 0., 0., 0., 0., 0., 0., 0., 0., 0., 0., 0., 0.,\n",
       "        0., 0., 0., 0., 0., 0., 0., 0., 0., 0., 0., 0., 0., 0., 0., 0., 0., 0., 0., 0., 0., 0., 0., 0.,\n",
       "        0., 0., 0., 0., 0., 0., 0., 0., 0., 0., 0., 0., 0., 0., 0., 0., 0., 0., 0., 0., 0., 0., 0., 0.,\n",
       "        0., 0., 0., 0., 0., 0., 0., 0., 0., 0., 0., 0., 0., 0., 0., 0., 0., 0., 0., 0., 0., 0., 0., 0.,\n",
       "        0., 0., 0., 0., 0., 0., 0., 0., 0., 0., 0., 0., 0., 0., 0., 0., 0., 0., 0., 0., 0., 0., 0., 0.,\n",
       "        0., 0., 0., 0., 0., 0., 0., 0., 0., 0., 0., 0., 0., 0., 0., 0., 0., 0., 0., 0., 0., 0., 0., 0.,\n",
       "        0., 0., 0., 0., 0., 0., 0., 0., 0., 0., 0., 0., 0., 0., 0., 0., 0., 0., 0., 0., 0., 0., 0., 0.,\n",
       "        0., 0., 0., 0., 0., 0., 0., 0., 0., 0., 0., 0., 0., 0., 0., 0., 0., 0., 0., 0., 0., 0., 0., 0.,\n",
       "        0., 0., 0., 0., 0., 0., 0., 0., 0., 0., 0., 0., 0., 0., 0., 0., 0., 0., 0., 0., 0., 0., 0., 0.,\n",
       "        0., 0., 0., 0., 0., 0., 0., 0., 0., 0., 0., 0., 0., 0., 0., 0., 0., 0., 0., 0., 0., 0., 0., 0.,\n",
       "        0., 0., 0., 0., 0., 0., 0., 0., 0., 0., 0., 0., 0., 0., 0., 0., 0., 0., 0., 0., 0., 0., 0., 0.,\n",
       "        0., 0., 0., 0., 0., 0., 0., 0., 0., 0., 0., 0., 0., 0., 0., 0., 0., 0., 0., 0., 0., 0., 0., 0.,\n",
       "        0., 0., 0., 0., 0., 0., 0., 0., 0., 0., 0., 0., 0., 0., 0., 0., 0., 0., 0., 0., 0., 0., 0., 0.,\n",
       "        0., 0., 0., 0., 0., 0., 0., 0., 0., 0., 0., 0., 0., 0., 0., 0., 0., 0., 0., 0., 0., 0., 0., 0.,\n",
       "        0., 0., 0., 0., 0., 0., 0., 0., 0., 0., 0., 0., 0., 0., 0., 0., 0., 0., 0., 0., 0., 0., 0., 0.])"
      ]
     },
     "execution_count": 56,
     "metadata": {},
     "output_type": "execute_result"
    }
   ],
   "source": [
    "weight_vec[0]"
   ]
  },
  {
   "cell_type": "code",
   "execution_count": null,
   "id": "e15934bb",
   "metadata": {},
   "outputs": [],
   "source": []
  },
  {
   "cell_type": "code",
   "execution_count": 51,
   "id": "d3c7acaf",
   "metadata": {},
   "outputs": [
    {
     "data": {
      "text/plain": [
       "False"
      ]
     },
     "execution_count": 51,
     "metadata": {},
     "output_type": "execute_result"
    }
   ],
   "source": [
    "all([True, True,False])"
   ]
  },
  {
   "cell_type": "code",
   "execution_count": null,
   "id": "085720a2",
   "metadata": {},
   "outputs": [],
   "source": []
  },
  {
   "cell_type": "code",
   "execution_count": null,
   "id": "50aee9cf",
   "metadata": {},
   "outputs": [],
   "source": []
  },
  {
   "cell_type": "code",
   "execution_count": 29,
   "id": "fa89cb0d",
   "metadata": {},
   "outputs": [
    {
     "data": {
      "text/plain": [
       "array([[0.        , 1.52385005, 1.35927818, ..., 1.44855973, 1.41682854,\n",
       "        0.        ],\n",
       "       [1.52385005, 0.        , 2.05590101, ..., 2.06784832, 2.0781654 ,\n",
       "        1.52385005],\n",
       "       [1.35927818, 2.05590101, 0.        , ..., 2.00105355, 2.01337252,\n",
       "        1.35927818],\n",
       "       ...,\n",
       "       [1.44855973, 2.06784832, 2.00105355, ..., 0.        , 1.99306351,\n",
       "        1.44855973],\n",
       "       [1.41682854, 2.0781654 , 2.01337252, ..., 1.99306351, 0.        ,\n",
       "        1.41682854],\n",
       "       [0.        , 1.52385005, 1.35927818, ..., 1.44855973, 1.41682854,\n",
       "        0.        ]])"
      ]
     },
     "execution_count": 29,
     "metadata": {},
     "output_type": "execute_result"
    }
   ],
   "source": [
    "similar_matrix"
   ]
  },
  {
   "cell_type": "code",
   "execution_count": 130,
   "id": "4d88520f",
   "metadata": {},
   "outputs": [
    {
     "data": {
      "text/plain": [
       "torch.Size([64, 576])"
      ]
     },
     "execution_count": 130,
     "metadata": {},
     "output_type": "execute_result"
    }
   ],
   "source": [
    "weight_vec.shape"
   ]
  },
  {
   "cell_type": "code",
   "execution_count": 126,
   "id": "0038ed21",
   "metadata": {},
   "outputs": [
    {
     "data": {
      "text/plain": [
       "(torch.Size([64, 64, 3, 3]), torch.Size([64, 64, 3, 3]))"
      ]
     },
     "execution_count": 126,
     "metadata": {},
     "output_type": "execute_result"
    }
   ],
   "source": [
    "model.stage_3[2].conv_b.weight.shape , layer_weight.shape"
   ]
  },
  {
   "cell_type": "code",
   "execution_count": null,
   "id": "6633017a",
   "metadata": {},
   "outputs": [],
   "source": []
  }
 ],
 "metadata": {
  "kernelspec": {
   "display_name": "Python 3 (ipykernel)",
   "language": "python",
   "name": "python3"
  },
  "language_info": {
   "codemirror_mode": {
    "name": "ipython",
    "version": 3
   },
   "file_extension": ".py",
   "mimetype": "text/x-python",
   "name": "python",
   "nbconvert_exporter": "python",
   "pygments_lexer": "ipython3",
   "version": "3.8.10"
  }
 },
 "nbformat": 4,
 "nbformat_minor": 5
}
