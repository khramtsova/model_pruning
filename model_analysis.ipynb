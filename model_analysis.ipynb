{
 "cells": [
  {
   "cell_type": "code",
   "execution_count": 4,
   "id": "3e676eac",
   "metadata": {},
   "outputs": [],
   "source": [
    "import torch\n",
    "\n",
    "from models.imagenet_resnet import resnet18, resnet50\n",
    "from models.cifar_resnet import resnet20, resnet32, resnet56\n",
    "from torch import nn as nn \n",
    "\n",
    "from scipy.spatial.distance import cdist\n",
    "import numpy as np\n",
    "\n",
    "import gudhi as gd\n",
    "from gudhi import wasserstein\n",
    "\n",
    "import time\n",
    "\n",
    "from scipy.spatial import distance"
   ]
  },
  {
   "cell_type": "code",
   "execution_count": 2,
   "id": "9f1867c8",
   "metadata": {},
   "outputs": [],
   "source": [
    "import numpy as np\n",
    "from ripser import ripser\n",
    "from persim import plot_diagrams\n",
    "from gph.python import ripser_parallel\n",
    "from scipy.spatial.distance import pdist, squareform\n",
    "#import ripserplusplus as rpp_py\n",
    "import time"
   ]
  },
  {
   "cell_type": "code",
   "execution_count": 3,
   "id": "a8ca43b6",
   "metadata": {},
   "outputs": [],
   "source": [
    "pc = np.random.random((10, 3))\n",
    "#pc[0] = [0,0,0]\n",
    "#pc[1] = [0,0,0]\n",
    "#pc[2] = [0,0,0]\n",
    "#pc[3] = [0,0,0]\n",
    "dist = squareform(pdist(pc))\n",
    "t1 = time.time()\n",
    "res= ripser_parallel(dist, metric=\"precomputed\", maxdim=0, n_threads=-1, return_generators=True)\n",
    "bd_pairs = res['dgms']\n",
    "generators = res['gens']"
   ]
  },
  {
   "cell_type": "code",
   "execution_count": null,
   "id": "61a6699e",
   "metadata": {},
   "outputs": [],
   "source": []
  }
 ],
 "metadata": {
  "kernelspec": {
   "display_name": "Python 3 (ipykernel)",
   "language": "python",
   "name": "python3"
  },
  "language_info": {
   "codemirror_mode": {
    "name": "ipython",
    "version": 3
   },
   "file_extension": ".py",
   "mimetype": "text/x-python",
   "name": "python",
   "nbconvert_exporter": "python",
   "pygments_lexer": "ipython3",
   "version": "3.8.10"
  }
 },
 "nbformat": 4,
 "nbformat_minor": 5
}
